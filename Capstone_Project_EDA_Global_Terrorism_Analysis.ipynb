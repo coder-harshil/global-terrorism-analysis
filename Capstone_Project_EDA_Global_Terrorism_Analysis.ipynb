{
  "nbformat": 4,
  "nbformat_minor": 0,
  "metadata": {
    "colab": {
      "name": "Capstone Project EDA: Global Terrorism Analysis.ipynb",
      "provenance": [],
      "mount_file_id": "16lLS7am7eIJM2dmRfB5iXOl4FoBxV1Sa",
      "authorship_tag": "ABX9TyM1h4VyPdBJqgL6JEBlUNPb",
      "include_colab_link": true
    },
    "kernelspec": {
      "name": "python3",
      "display_name": "Python 3"
    },
    "language_info": {
      "name": "python"
    }
  },
  "cells": [
    {
      "cell_type": "markdown",
      "metadata": {
        "id": "view-in-github",
        "colab_type": "text"
      },
      "source": [
        "<a href=\"https://colab.research.google.com/github/coder-harshil/global-terrorism-analysis/blob/main/Capstone_Project_EDA_Global_Terrorism_Analysis.ipynb\" target=\"_parent\"><img src=\"https://colab.research.google.com/assets/colab-badge.svg\" alt=\"Open In Colab\"/></a>"
      ]
    },
    {
      "cell_type": "markdown",
      "metadata": {
        "id": "Um_yihy_u2oG"
      },
      "source": [
        "## <b> The Global Terrorism Database (GTD) is an open-source database including information on terrorist attacks around the world from 1970 through 2017. The GTD includes systematic data on domestic as well as international terrorist incidents that have occurred during this time period and now includes more than 180,000 attacks. The database is maintained by researchers at the National Consortium for the Study of Terrorism and Responses to Terrorism (START), headquartered at the University of Maryland.</b>\n",
        "\n",
        "# <b> Explore and analyze the data to discover key findings pertaining to terrorist activities. </b>"
      ]
    },
    {
      "cell_type": "markdown",
      "metadata": {
        "id": "rt2-InNSu6Ty"
      },
      "source": [
        "##**Terrorism has been a global problem for decades now, and with recent misfortune in Afghanistan, it is high time that we shade light on how the attacks have happened over the years. Thanks to the assignment, we have data of more than 180,000 attacks that happened during 1970-2017.**\n",
        "\n",
        "## **Here is a list of operations I will be performing in this colab notebook to analyse the dataset -**\n",
        "\n",
        "## **1. Cleaning the data and keeping only required columns (there are 135 columns in the dataset, and I will select only the necessary ones).**\n",
        "\n",
        "## **2. Replacing null values when and where necessary for smooth data analysis.**\n",
        "\n",
        "## **3. Filtering dataset and creating other dataframes for diving deep into how particular factors influence the data.**\n",
        "\n",
        "## **4. Creating basic visualizations to understand the convery the effect of factors.**"
      ]
    },
    {
      "cell_type": "code",
      "metadata": {
        "id": "WIoMFDlGtivT"
      },
      "source": [
        "import numpy as np\n",
        "import pandas as pd\n",
        "import matplotlib.pyplot as plt\n",
        "import seaborn as sns"
      ],
      "execution_count": 1,
      "outputs": []
    },
    {
      "cell_type": "code",
      "metadata": {
        "colab": {
          "base_uri": "https://localhost:8080/"
        },
        "id": "dUnYDHsavBja",
        "outputId": "a6158242-371f-403c-c6d7-f7d4e78ee864"
      },
      "source": [
        "from google.colab import drive\n",
        "drive.mount('/content/drive')"
      ],
      "execution_count": 2,
      "outputs": [
        {
          "output_type": "stream",
          "text": [
            "Drive already mounted at /content/drive; to attempt to forcibly remount, call drive.mount(\"/content/drive\", force_remount=True).\n"
          ],
          "name": "stdout"
        }
      ]
    },
    {
      "cell_type": "code",
      "metadata": {
        "colab": {
          "base_uri": "https://localhost:8080/"
        },
        "id": "hoe0-4yRvWIz",
        "outputId": "768e3c29-76b1-4703-d4dd-9f7344ba6819"
      },
      "source": [
        "#Importing and reading the dataset\n",
        "\n",
        "df = pd.read_csv('/content/drive/MyDrive/AlmaBetter/Capstone Project - EDA/Global Terrorism Data.csv', encoding = 'latin1' )"
      ],
      "execution_count": 3,
      "outputs": [
        {
          "output_type": "stream",
          "text": [
            "/usr/local/lib/python3.7/dist-packages/IPython/core/interactiveshell.py:2718: DtypeWarning: Columns (4,6,31,33,61,62,63,76,79,90,92,94,96,114,115,121) have mixed types.Specify dtype option on import or set low_memory=False.\n",
            "  interactivity=interactivity, compiler=compiler, result=result)\n"
          ],
          "name": "stderr"
        }
      ]
    },
    {
      "cell_type": "code",
      "metadata": {
        "colab": {
          "base_uri": "https://localhost:8080/",
          "height": 377
        },
        "id": "D7e9yW5yvaSj",
        "outputId": "ea724582-b724-48b6-cd88-d45ef5073619"
      },
      "source": [
        "df.head()"
      ],
      "execution_count": 4,
      "outputs": [
        {
          "output_type": "execute_result",
          "data": {
            "text/html": [
              "<div>\n",
              "<style scoped>\n",
              "    .dataframe tbody tr th:only-of-type {\n",
              "        vertical-align: middle;\n",
              "    }\n",
              "\n",
              "    .dataframe tbody tr th {\n",
              "        vertical-align: top;\n",
              "    }\n",
              "\n",
              "    .dataframe thead th {\n",
              "        text-align: right;\n",
              "    }\n",
              "</style>\n",
              "<table border=\"1\" class=\"dataframe\">\n",
              "  <thead>\n",
              "    <tr style=\"text-align: right;\">\n",
              "      <th></th>\n",
              "      <th>eventid</th>\n",
              "      <th>iyear</th>\n",
              "      <th>imonth</th>\n",
              "      <th>iday</th>\n",
              "      <th>approxdate</th>\n",
              "      <th>extended</th>\n",
              "      <th>resolution</th>\n",
              "      <th>country</th>\n",
              "      <th>country_txt</th>\n",
              "      <th>region</th>\n",
              "      <th>region_txt</th>\n",
              "      <th>provstate</th>\n",
              "      <th>city</th>\n",
              "      <th>latitude</th>\n",
              "      <th>longitude</th>\n",
              "      <th>specificity</th>\n",
              "      <th>vicinity</th>\n",
              "      <th>location</th>\n",
              "      <th>summary</th>\n",
              "      <th>crit1</th>\n",
              "      <th>crit2</th>\n",
              "      <th>crit3</th>\n",
              "      <th>doubtterr</th>\n",
              "      <th>alternative</th>\n",
              "      <th>alternative_txt</th>\n",
              "      <th>multiple</th>\n",
              "      <th>success</th>\n",
              "      <th>suicide</th>\n",
              "      <th>attacktype1</th>\n",
              "      <th>attacktype1_txt</th>\n",
              "      <th>attacktype2</th>\n",
              "      <th>attacktype2_txt</th>\n",
              "      <th>attacktype3</th>\n",
              "      <th>attacktype3_txt</th>\n",
              "      <th>targtype1</th>\n",
              "      <th>targtype1_txt</th>\n",
              "      <th>targsubtype1</th>\n",
              "      <th>targsubtype1_txt</th>\n",
              "      <th>corp1</th>\n",
              "      <th>target1</th>\n",
              "      <th>...</th>\n",
              "      <th>weapsubtype4</th>\n",
              "      <th>weapsubtype4_txt</th>\n",
              "      <th>weapdetail</th>\n",
              "      <th>nkill</th>\n",
              "      <th>nkillus</th>\n",
              "      <th>nkillter</th>\n",
              "      <th>nwound</th>\n",
              "      <th>nwoundus</th>\n",
              "      <th>nwoundte</th>\n",
              "      <th>property</th>\n",
              "      <th>propextent</th>\n",
              "      <th>propextent_txt</th>\n",
              "      <th>propvalue</th>\n",
              "      <th>propcomment</th>\n",
              "      <th>ishostkid</th>\n",
              "      <th>nhostkid</th>\n",
              "      <th>nhostkidus</th>\n",
              "      <th>nhours</th>\n",
              "      <th>ndays</th>\n",
              "      <th>divert</th>\n",
              "      <th>kidhijcountry</th>\n",
              "      <th>ransom</th>\n",
              "      <th>ransomamt</th>\n",
              "      <th>ransomamtus</th>\n",
              "      <th>ransompaid</th>\n",
              "      <th>ransompaidus</th>\n",
              "      <th>ransomnote</th>\n",
              "      <th>hostkidoutcome</th>\n",
              "      <th>hostkidoutcome_txt</th>\n",
              "      <th>nreleased</th>\n",
              "      <th>addnotes</th>\n",
              "      <th>scite1</th>\n",
              "      <th>scite2</th>\n",
              "      <th>scite3</th>\n",
              "      <th>dbsource</th>\n",
              "      <th>INT_LOG</th>\n",
              "      <th>INT_IDEO</th>\n",
              "      <th>INT_MISC</th>\n",
              "      <th>INT_ANY</th>\n",
              "      <th>related</th>\n",
              "    </tr>\n",
              "  </thead>\n",
              "  <tbody>\n",
              "    <tr>\n",
              "      <th>0</th>\n",
              "      <td>197000000001</td>\n",
              "      <td>1970</td>\n",
              "      <td>7</td>\n",
              "      <td>2</td>\n",
              "      <td>NaN</td>\n",
              "      <td>0</td>\n",
              "      <td>NaN</td>\n",
              "      <td>58</td>\n",
              "      <td>Dominican Republic</td>\n",
              "      <td>2</td>\n",
              "      <td>Central America &amp; Caribbean</td>\n",
              "      <td>NaN</td>\n",
              "      <td>Santo Domingo</td>\n",
              "      <td>18.456792</td>\n",
              "      <td>-69.951164</td>\n",
              "      <td>1.0</td>\n",
              "      <td>0</td>\n",
              "      <td>NaN</td>\n",
              "      <td>NaN</td>\n",
              "      <td>1</td>\n",
              "      <td>1</td>\n",
              "      <td>1</td>\n",
              "      <td>0.0</td>\n",
              "      <td>NaN</td>\n",
              "      <td>NaN</td>\n",
              "      <td>0.0</td>\n",
              "      <td>1</td>\n",
              "      <td>0</td>\n",
              "      <td>1</td>\n",
              "      <td>Assassination</td>\n",
              "      <td>NaN</td>\n",
              "      <td>NaN</td>\n",
              "      <td>NaN</td>\n",
              "      <td>NaN</td>\n",
              "      <td>14</td>\n",
              "      <td>Private Citizens &amp; Property</td>\n",
              "      <td>68.0</td>\n",
              "      <td>Named Civilian</td>\n",
              "      <td>NaN</td>\n",
              "      <td>Julio Guzman</td>\n",
              "      <td>...</td>\n",
              "      <td>NaN</td>\n",
              "      <td>NaN</td>\n",
              "      <td>NaN</td>\n",
              "      <td>1.0</td>\n",
              "      <td>NaN</td>\n",
              "      <td>NaN</td>\n",
              "      <td>0.0</td>\n",
              "      <td>NaN</td>\n",
              "      <td>NaN</td>\n",
              "      <td>0</td>\n",
              "      <td>NaN</td>\n",
              "      <td>NaN</td>\n",
              "      <td>NaN</td>\n",
              "      <td>NaN</td>\n",
              "      <td>0.0</td>\n",
              "      <td>NaN</td>\n",
              "      <td>NaN</td>\n",
              "      <td>NaN</td>\n",
              "      <td>NaN</td>\n",
              "      <td>NaN</td>\n",
              "      <td>NaN</td>\n",
              "      <td>0.0</td>\n",
              "      <td>NaN</td>\n",
              "      <td>NaN</td>\n",
              "      <td>NaN</td>\n",
              "      <td>NaN</td>\n",
              "      <td>NaN</td>\n",
              "      <td>NaN</td>\n",
              "      <td>NaN</td>\n",
              "      <td>NaN</td>\n",
              "      <td>NaN</td>\n",
              "      <td>NaN</td>\n",
              "      <td>NaN</td>\n",
              "      <td>NaN</td>\n",
              "      <td>PGIS</td>\n",
              "      <td>0</td>\n",
              "      <td>0</td>\n",
              "      <td>0</td>\n",
              "      <td>0</td>\n",
              "      <td>NaN</td>\n",
              "    </tr>\n",
              "    <tr>\n",
              "      <th>1</th>\n",
              "      <td>197000000002</td>\n",
              "      <td>1970</td>\n",
              "      <td>0</td>\n",
              "      <td>0</td>\n",
              "      <td>NaN</td>\n",
              "      <td>0</td>\n",
              "      <td>NaN</td>\n",
              "      <td>130</td>\n",
              "      <td>Mexico</td>\n",
              "      <td>1</td>\n",
              "      <td>North America</td>\n",
              "      <td>Federal</td>\n",
              "      <td>Mexico city</td>\n",
              "      <td>19.371887</td>\n",
              "      <td>-99.086624</td>\n",
              "      <td>1.0</td>\n",
              "      <td>0</td>\n",
              "      <td>NaN</td>\n",
              "      <td>NaN</td>\n",
              "      <td>1</td>\n",
              "      <td>1</td>\n",
              "      <td>1</td>\n",
              "      <td>0.0</td>\n",
              "      <td>NaN</td>\n",
              "      <td>NaN</td>\n",
              "      <td>0.0</td>\n",
              "      <td>1</td>\n",
              "      <td>0</td>\n",
              "      <td>6</td>\n",
              "      <td>Hostage Taking (Kidnapping)</td>\n",
              "      <td>NaN</td>\n",
              "      <td>NaN</td>\n",
              "      <td>NaN</td>\n",
              "      <td>NaN</td>\n",
              "      <td>7</td>\n",
              "      <td>Government (Diplomatic)</td>\n",
              "      <td>45.0</td>\n",
              "      <td>Diplomatic Personnel (outside of embassy, cons...</td>\n",
              "      <td>Belgian Ambassador Daughter</td>\n",
              "      <td>Nadine Chaval, daughter</td>\n",
              "      <td>...</td>\n",
              "      <td>NaN</td>\n",
              "      <td>NaN</td>\n",
              "      <td>NaN</td>\n",
              "      <td>0.0</td>\n",
              "      <td>NaN</td>\n",
              "      <td>NaN</td>\n",
              "      <td>0.0</td>\n",
              "      <td>NaN</td>\n",
              "      <td>NaN</td>\n",
              "      <td>0</td>\n",
              "      <td>NaN</td>\n",
              "      <td>NaN</td>\n",
              "      <td>NaN</td>\n",
              "      <td>NaN</td>\n",
              "      <td>1.0</td>\n",
              "      <td>1.0</td>\n",
              "      <td>0.0</td>\n",
              "      <td>NaN</td>\n",
              "      <td>NaN</td>\n",
              "      <td>NaN</td>\n",
              "      <td>Mexico</td>\n",
              "      <td>1.0</td>\n",
              "      <td>800000.0</td>\n",
              "      <td>NaN</td>\n",
              "      <td>NaN</td>\n",
              "      <td>NaN</td>\n",
              "      <td>NaN</td>\n",
              "      <td>NaN</td>\n",
              "      <td>NaN</td>\n",
              "      <td>NaN</td>\n",
              "      <td>NaN</td>\n",
              "      <td>NaN</td>\n",
              "      <td>NaN</td>\n",
              "      <td>NaN</td>\n",
              "      <td>PGIS</td>\n",
              "      <td>0</td>\n",
              "      <td>1</td>\n",
              "      <td>1</td>\n",
              "      <td>1</td>\n",
              "      <td>NaN</td>\n",
              "    </tr>\n",
              "    <tr>\n",
              "      <th>2</th>\n",
              "      <td>197001000001</td>\n",
              "      <td>1970</td>\n",
              "      <td>1</td>\n",
              "      <td>0</td>\n",
              "      <td>NaN</td>\n",
              "      <td>0</td>\n",
              "      <td>NaN</td>\n",
              "      <td>160</td>\n",
              "      <td>Philippines</td>\n",
              "      <td>5</td>\n",
              "      <td>Southeast Asia</td>\n",
              "      <td>Tarlac</td>\n",
              "      <td>Unknown</td>\n",
              "      <td>15.478598</td>\n",
              "      <td>120.599741</td>\n",
              "      <td>4.0</td>\n",
              "      <td>0</td>\n",
              "      <td>NaN</td>\n",
              "      <td>NaN</td>\n",
              "      <td>1</td>\n",
              "      <td>1</td>\n",
              "      <td>1</td>\n",
              "      <td>0.0</td>\n",
              "      <td>NaN</td>\n",
              "      <td>NaN</td>\n",
              "      <td>0.0</td>\n",
              "      <td>1</td>\n",
              "      <td>0</td>\n",
              "      <td>1</td>\n",
              "      <td>Assassination</td>\n",
              "      <td>NaN</td>\n",
              "      <td>NaN</td>\n",
              "      <td>NaN</td>\n",
              "      <td>NaN</td>\n",
              "      <td>10</td>\n",
              "      <td>Journalists &amp; Media</td>\n",
              "      <td>54.0</td>\n",
              "      <td>Radio Journalist/Staff/Facility</td>\n",
              "      <td>Voice of America</td>\n",
              "      <td>Employee</td>\n",
              "      <td>...</td>\n",
              "      <td>NaN</td>\n",
              "      <td>NaN</td>\n",
              "      <td>NaN</td>\n",
              "      <td>1.0</td>\n",
              "      <td>NaN</td>\n",
              "      <td>NaN</td>\n",
              "      <td>0.0</td>\n",
              "      <td>NaN</td>\n",
              "      <td>NaN</td>\n",
              "      <td>0</td>\n",
              "      <td>NaN</td>\n",
              "      <td>NaN</td>\n",
              "      <td>NaN</td>\n",
              "      <td>NaN</td>\n",
              "      <td>0.0</td>\n",
              "      <td>NaN</td>\n",
              "      <td>NaN</td>\n",
              "      <td>NaN</td>\n",
              "      <td>NaN</td>\n",
              "      <td>NaN</td>\n",
              "      <td>NaN</td>\n",
              "      <td>0.0</td>\n",
              "      <td>NaN</td>\n",
              "      <td>NaN</td>\n",
              "      <td>NaN</td>\n",
              "      <td>NaN</td>\n",
              "      <td>NaN</td>\n",
              "      <td>NaN</td>\n",
              "      <td>NaN</td>\n",
              "      <td>NaN</td>\n",
              "      <td>NaN</td>\n",
              "      <td>NaN</td>\n",
              "      <td>NaN</td>\n",
              "      <td>NaN</td>\n",
              "      <td>PGIS</td>\n",
              "      <td>-9</td>\n",
              "      <td>-9</td>\n",
              "      <td>1</td>\n",
              "      <td>1</td>\n",
              "      <td>NaN</td>\n",
              "    </tr>\n",
              "    <tr>\n",
              "      <th>3</th>\n",
              "      <td>197001000002</td>\n",
              "      <td>1970</td>\n",
              "      <td>1</td>\n",
              "      <td>0</td>\n",
              "      <td>NaN</td>\n",
              "      <td>0</td>\n",
              "      <td>NaN</td>\n",
              "      <td>78</td>\n",
              "      <td>Greece</td>\n",
              "      <td>8</td>\n",
              "      <td>Western Europe</td>\n",
              "      <td>Attica</td>\n",
              "      <td>Athens</td>\n",
              "      <td>37.997490</td>\n",
              "      <td>23.762728</td>\n",
              "      <td>1.0</td>\n",
              "      <td>0</td>\n",
              "      <td>NaN</td>\n",
              "      <td>NaN</td>\n",
              "      <td>1</td>\n",
              "      <td>1</td>\n",
              "      <td>1</td>\n",
              "      <td>0.0</td>\n",
              "      <td>NaN</td>\n",
              "      <td>NaN</td>\n",
              "      <td>0.0</td>\n",
              "      <td>1</td>\n",
              "      <td>0</td>\n",
              "      <td>3</td>\n",
              "      <td>Bombing/Explosion</td>\n",
              "      <td>NaN</td>\n",
              "      <td>NaN</td>\n",
              "      <td>NaN</td>\n",
              "      <td>NaN</td>\n",
              "      <td>7</td>\n",
              "      <td>Government (Diplomatic)</td>\n",
              "      <td>46.0</td>\n",
              "      <td>Embassy/Consulate</td>\n",
              "      <td>NaN</td>\n",
              "      <td>U.S. Embassy</td>\n",
              "      <td>...</td>\n",
              "      <td>NaN</td>\n",
              "      <td>NaN</td>\n",
              "      <td>Explosive</td>\n",
              "      <td>NaN</td>\n",
              "      <td>NaN</td>\n",
              "      <td>NaN</td>\n",
              "      <td>NaN</td>\n",
              "      <td>NaN</td>\n",
              "      <td>NaN</td>\n",
              "      <td>1</td>\n",
              "      <td>NaN</td>\n",
              "      <td>NaN</td>\n",
              "      <td>NaN</td>\n",
              "      <td>NaN</td>\n",
              "      <td>0.0</td>\n",
              "      <td>NaN</td>\n",
              "      <td>NaN</td>\n",
              "      <td>NaN</td>\n",
              "      <td>NaN</td>\n",
              "      <td>NaN</td>\n",
              "      <td>NaN</td>\n",
              "      <td>0.0</td>\n",
              "      <td>NaN</td>\n",
              "      <td>NaN</td>\n",
              "      <td>NaN</td>\n",
              "      <td>NaN</td>\n",
              "      <td>NaN</td>\n",
              "      <td>NaN</td>\n",
              "      <td>NaN</td>\n",
              "      <td>NaN</td>\n",
              "      <td>NaN</td>\n",
              "      <td>NaN</td>\n",
              "      <td>NaN</td>\n",
              "      <td>NaN</td>\n",
              "      <td>PGIS</td>\n",
              "      <td>-9</td>\n",
              "      <td>-9</td>\n",
              "      <td>1</td>\n",
              "      <td>1</td>\n",
              "      <td>NaN</td>\n",
              "    </tr>\n",
              "    <tr>\n",
              "      <th>4</th>\n",
              "      <td>197001000003</td>\n",
              "      <td>1970</td>\n",
              "      <td>1</td>\n",
              "      <td>0</td>\n",
              "      <td>NaN</td>\n",
              "      <td>0</td>\n",
              "      <td>NaN</td>\n",
              "      <td>101</td>\n",
              "      <td>Japan</td>\n",
              "      <td>4</td>\n",
              "      <td>East Asia</td>\n",
              "      <td>Fukouka</td>\n",
              "      <td>Fukouka</td>\n",
              "      <td>33.580412</td>\n",
              "      <td>130.396361</td>\n",
              "      <td>1.0</td>\n",
              "      <td>0</td>\n",
              "      <td>NaN</td>\n",
              "      <td>NaN</td>\n",
              "      <td>1</td>\n",
              "      <td>1</td>\n",
              "      <td>1</td>\n",
              "      <td>-9.0</td>\n",
              "      <td>NaN</td>\n",
              "      <td>NaN</td>\n",
              "      <td>0.0</td>\n",
              "      <td>1</td>\n",
              "      <td>0</td>\n",
              "      <td>7</td>\n",
              "      <td>Facility/Infrastructure Attack</td>\n",
              "      <td>NaN</td>\n",
              "      <td>NaN</td>\n",
              "      <td>NaN</td>\n",
              "      <td>NaN</td>\n",
              "      <td>7</td>\n",
              "      <td>Government (Diplomatic)</td>\n",
              "      <td>46.0</td>\n",
              "      <td>Embassy/Consulate</td>\n",
              "      <td>NaN</td>\n",
              "      <td>U.S. Consulate</td>\n",
              "      <td>...</td>\n",
              "      <td>NaN</td>\n",
              "      <td>NaN</td>\n",
              "      <td>Incendiary</td>\n",
              "      <td>NaN</td>\n",
              "      <td>NaN</td>\n",
              "      <td>NaN</td>\n",
              "      <td>NaN</td>\n",
              "      <td>NaN</td>\n",
              "      <td>NaN</td>\n",
              "      <td>1</td>\n",
              "      <td>NaN</td>\n",
              "      <td>NaN</td>\n",
              "      <td>NaN</td>\n",
              "      <td>NaN</td>\n",
              "      <td>0.0</td>\n",
              "      <td>NaN</td>\n",
              "      <td>NaN</td>\n",
              "      <td>NaN</td>\n",
              "      <td>NaN</td>\n",
              "      <td>NaN</td>\n",
              "      <td>NaN</td>\n",
              "      <td>0.0</td>\n",
              "      <td>NaN</td>\n",
              "      <td>NaN</td>\n",
              "      <td>NaN</td>\n",
              "      <td>NaN</td>\n",
              "      <td>NaN</td>\n",
              "      <td>NaN</td>\n",
              "      <td>NaN</td>\n",
              "      <td>NaN</td>\n",
              "      <td>NaN</td>\n",
              "      <td>NaN</td>\n",
              "      <td>NaN</td>\n",
              "      <td>NaN</td>\n",
              "      <td>PGIS</td>\n",
              "      <td>-9</td>\n",
              "      <td>-9</td>\n",
              "      <td>1</td>\n",
              "      <td>1</td>\n",
              "      <td>NaN</td>\n",
              "    </tr>\n",
              "  </tbody>\n",
              "</table>\n",
              "<p>5 rows × 135 columns</p>\n",
              "</div>"
            ],
            "text/plain": [
              "        eventid  iyear  imonth  iday  ... INT_IDEO  INT_MISC INT_ANY  related\n",
              "0  197000000001   1970       7     2  ...        0         0       0      NaN\n",
              "1  197000000002   1970       0     0  ...        1         1       1      NaN\n",
              "2  197001000001   1970       1     0  ...       -9         1       1      NaN\n",
              "3  197001000002   1970       1     0  ...       -9         1       1      NaN\n",
              "4  197001000003   1970       1     0  ...       -9         1       1      NaN\n",
              "\n",
              "[5 rows x 135 columns]"
            ]
          },
          "metadata": {},
          "execution_count": 4
        }
      ]
    },
    {
      "cell_type": "markdown",
      "metadata": {
        "id": "cTgKZrUQvi2T"
      },
      "source": [
        "### **As the data contains many unnecessary columns, we will first filter and select only the essential ones for our analysis**"
      ]
    },
    {
      "cell_type": "code",
      "metadata": {
        "colab": {
          "base_uri": "https://localhost:8080/"
        },
        "id": "nWbJ4Pr7vgey",
        "outputId": "401b41e0-9885-4d83-9a83-02056c552fcd"
      },
      "source": [
        "df.columns"
      ],
      "execution_count": 5,
      "outputs": [
        {
          "output_type": "execute_result",
          "data": {
            "text/plain": [
              "Index(['eventid', 'iyear', 'imonth', 'iday', 'approxdate', 'extended',\n",
              "       'resolution', 'country', 'country_txt', 'region',\n",
              "       ...\n",
              "       'addnotes', 'scite1', 'scite2', 'scite3', 'dbsource', 'INT_LOG',\n",
              "       'INT_IDEO', 'INT_MISC', 'INT_ANY', 'related'],\n",
              "      dtype='object', length=135)"
            ]
          },
          "metadata": {},
          "execution_count": 5
        }
      ]
    },
    {
      "cell_type": "code",
      "metadata": {
        "id": "XsRRsaHKvle3"
      },
      "source": [
        "#Will use only the essential columns for the analysis of the data\n",
        "\n",
        "columns_required = ['iyear', 'imonth', 'iday', 'country_txt', 'region_txt', 'provstate', 'city', 'attacktype1_txt', 'targtype1_txt', 'gname', 'weaptype1_txt', 'nkill']\n",
        "terror_df = pd.DataFrame(columns = columns_required, data = df)"
      ],
      "execution_count": 6,
      "outputs": []
    },
    {
      "cell_type": "code",
      "metadata": {
        "colab": {
          "base_uri": "https://localhost:8080/",
          "height": 275
        },
        "id": "y8T7rKw5vofr",
        "outputId": "247a4377-9426-41bc-fe12-634eac774900"
      },
      "source": [
        "terror_df.head()"
      ],
      "execution_count": 7,
      "outputs": [
        {
          "output_type": "execute_result",
          "data": {
            "text/html": [
              "<div>\n",
              "<style scoped>\n",
              "    .dataframe tbody tr th:only-of-type {\n",
              "        vertical-align: middle;\n",
              "    }\n",
              "\n",
              "    .dataframe tbody tr th {\n",
              "        vertical-align: top;\n",
              "    }\n",
              "\n",
              "    .dataframe thead th {\n",
              "        text-align: right;\n",
              "    }\n",
              "</style>\n",
              "<table border=\"1\" class=\"dataframe\">\n",
              "  <thead>\n",
              "    <tr style=\"text-align: right;\">\n",
              "      <th></th>\n",
              "      <th>iyear</th>\n",
              "      <th>imonth</th>\n",
              "      <th>iday</th>\n",
              "      <th>country_txt</th>\n",
              "      <th>region_txt</th>\n",
              "      <th>provstate</th>\n",
              "      <th>city</th>\n",
              "      <th>attacktype1_txt</th>\n",
              "      <th>targtype1_txt</th>\n",
              "      <th>gname</th>\n",
              "      <th>weaptype1_txt</th>\n",
              "      <th>nkill</th>\n",
              "    </tr>\n",
              "  </thead>\n",
              "  <tbody>\n",
              "    <tr>\n",
              "      <th>0</th>\n",
              "      <td>1970</td>\n",
              "      <td>7</td>\n",
              "      <td>2</td>\n",
              "      <td>Dominican Republic</td>\n",
              "      <td>Central America &amp; Caribbean</td>\n",
              "      <td>NaN</td>\n",
              "      <td>Santo Domingo</td>\n",
              "      <td>Assassination</td>\n",
              "      <td>Private Citizens &amp; Property</td>\n",
              "      <td>MANO-D</td>\n",
              "      <td>Unknown</td>\n",
              "      <td>1.0</td>\n",
              "    </tr>\n",
              "    <tr>\n",
              "      <th>1</th>\n",
              "      <td>1970</td>\n",
              "      <td>0</td>\n",
              "      <td>0</td>\n",
              "      <td>Mexico</td>\n",
              "      <td>North America</td>\n",
              "      <td>Federal</td>\n",
              "      <td>Mexico city</td>\n",
              "      <td>Hostage Taking (Kidnapping)</td>\n",
              "      <td>Government (Diplomatic)</td>\n",
              "      <td>23rd of September Communist League</td>\n",
              "      <td>Unknown</td>\n",
              "      <td>0.0</td>\n",
              "    </tr>\n",
              "    <tr>\n",
              "      <th>2</th>\n",
              "      <td>1970</td>\n",
              "      <td>1</td>\n",
              "      <td>0</td>\n",
              "      <td>Philippines</td>\n",
              "      <td>Southeast Asia</td>\n",
              "      <td>Tarlac</td>\n",
              "      <td>Unknown</td>\n",
              "      <td>Assassination</td>\n",
              "      <td>Journalists &amp; Media</td>\n",
              "      <td>Unknown</td>\n",
              "      <td>Unknown</td>\n",
              "      <td>1.0</td>\n",
              "    </tr>\n",
              "    <tr>\n",
              "      <th>3</th>\n",
              "      <td>1970</td>\n",
              "      <td>1</td>\n",
              "      <td>0</td>\n",
              "      <td>Greece</td>\n",
              "      <td>Western Europe</td>\n",
              "      <td>Attica</td>\n",
              "      <td>Athens</td>\n",
              "      <td>Bombing/Explosion</td>\n",
              "      <td>Government (Diplomatic)</td>\n",
              "      <td>Unknown</td>\n",
              "      <td>Explosives</td>\n",
              "      <td>NaN</td>\n",
              "    </tr>\n",
              "    <tr>\n",
              "      <th>4</th>\n",
              "      <td>1970</td>\n",
              "      <td>1</td>\n",
              "      <td>0</td>\n",
              "      <td>Japan</td>\n",
              "      <td>East Asia</td>\n",
              "      <td>Fukouka</td>\n",
              "      <td>Fukouka</td>\n",
              "      <td>Facility/Infrastructure Attack</td>\n",
              "      <td>Government (Diplomatic)</td>\n",
              "      <td>Unknown</td>\n",
              "      <td>Incendiary</td>\n",
              "      <td>NaN</td>\n",
              "    </tr>\n",
              "  </tbody>\n",
              "</table>\n",
              "</div>"
            ],
            "text/plain": [
              "   iyear  imonth  iday  ...                               gname weaptype1_txt nkill\n",
              "0   1970       7     2  ...                              MANO-D       Unknown   1.0\n",
              "1   1970       0     0  ...  23rd of September Communist League       Unknown   0.0\n",
              "2   1970       1     0  ...                             Unknown       Unknown   1.0\n",
              "3   1970       1     0  ...                             Unknown    Explosives   NaN\n",
              "4   1970       1     0  ...                             Unknown    Incendiary   NaN\n",
              "\n",
              "[5 rows x 12 columns]"
            ]
          },
          "metadata": {},
          "execution_count": 7
        }
      ]
    },
    {
      "cell_type": "code",
      "metadata": {
        "colab": {
          "base_uri": "https://localhost:8080/"
        },
        "id": "_FSbmAN8vqaa",
        "outputId": "994d0d8f-c369-4594-e94c-3eb00a69b949"
      },
      "source": [
        "terror_df.info()"
      ],
      "execution_count": 8,
      "outputs": [
        {
          "output_type": "stream",
          "text": [
            "<class 'pandas.core.frame.DataFrame'>\n",
            "RangeIndex: 181691 entries, 0 to 181690\n",
            "Data columns (total 12 columns):\n",
            " #   Column           Non-Null Count   Dtype  \n",
            "---  ------           --------------   -----  \n",
            " 0   iyear            181691 non-null  int64  \n",
            " 1   imonth           181691 non-null  int64  \n",
            " 2   iday             181691 non-null  int64  \n",
            " 3   country_txt      181691 non-null  object \n",
            " 4   region_txt       181691 non-null  object \n",
            " 5   provstate        181270 non-null  object \n",
            " 6   city             181257 non-null  object \n",
            " 7   attacktype1_txt  181691 non-null  object \n",
            " 8   targtype1_txt    181691 non-null  object \n",
            " 9   gname            181691 non-null  object \n",
            " 10  weaptype1_txt    181691 non-null  object \n",
            " 11  nkill            171378 non-null  float64\n",
            "dtypes: float64(1), int64(3), object(8)\n",
            "memory usage: 16.6+ MB\n"
          ],
          "name": "stdout"
        }
      ]
    },
    {
      "cell_type": "code",
      "metadata": {
        "id": "N05UVBmLvspa"
      },
      "source": [
        "#Eliminating null values from 'nkill' column and replacing them by median values\n",
        "\n",
        "terror_df.loc[terror_df['nkill'].isna(), 'nkill'] = terror_df.loc[~terror_df['nkill'].isna(), 'nkill'].median()"
      ],
      "execution_count": 9,
      "outputs": []
    },
    {
      "cell_type": "code",
      "metadata": {
        "colab": {
          "base_uri": "https://localhost:8080/"
        },
        "id": "AKuuLNrcvwcV",
        "outputId": "f32bb0f3-b321-4c7e-8c69-e399f8e19793"
      },
      "source": [
        "#Checking dataframe information again to ensure null values are filled\n",
        "\n",
        "terror_df.info()"
      ],
      "execution_count": 10,
      "outputs": [
        {
          "output_type": "stream",
          "text": [
            "<class 'pandas.core.frame.DataFrame'>\n",
            "RangeIndex: 181691 entries, 0 to 181690\n",
            "Data columns (total 12 columns):\n",
            " #   Column           Non-Null Count   Dtype  \n",
            "---  ------           --------------   -----  \n",
            " 0   iyear            181691 non-null  int64  \n",
            " 1   imonth           181691 non-null  int64  \n",
            " 2   iday             181691 non-null  int64  \n",
            " 3   country_txt      181691 non-null  object \n",
            " 4   region_txt       181691 non-null  object \n",
            " 5   provstate        181270 non-null  object \n",
            " 6   city             181257 non-null  object \n",
            " 7   attacktype1_txt  181691 non-null  object \n",
            " 8   targtype1_txt    181691 non-null  object \n",
            " 9   gname            181691 non-null  object \n",
            " 10  weaptype1_txt    181691 non-null  object \n",
            " 11  nkill            181691 non-null  float64\n",
            "dtypes: float64(1), int64(3), object(8)\n",
            "memory usage: 16.6+ MB\n"
          ],
          "name": "stdout"
        }
      ]
    },
    {
      "cell_type": "code",
      "metadata": {
        "colab": {
          "base_uri": "https://localhost:8080/",
          "height": 300
        },
        "id": "NFxNGrMIvyVq",
        "outputId": "e0e96b88-d687-4dc9-d4a4-8b7fafa376c0"
      },
      "source": [
        "terror_df.describe()"
      ],
      "execution_count": 11,
      "outputs": [
        {
          "output_type": "execute_result",
          "data": {
            "text/html": [
              "<div>\n",
              "<style scoped>\n",
              "    .dataframe tbody tr th:only-of-type {\n",
              "        vertical-align: middle;\n",
              "    }\n",
              "\n",
              "    .dataframe tbody tr th {\n",
              "        vertical-align: top;\n",
              "    }\n",
              "\n",
              "    .dataframe thead th {\n",
              "        text-align: right;\n",
              "    }\n",
              "</style>\n",
              "<table border=\"1\" class=\"dataframe\">\n",
              "  <thead>\n",
              "    <tr style=\"text-align: right;\">\n",
              "      <th></th>\n",
              "      <th>iyear</th>\n",
              "      <th>imonth</th>\n",
              "      <th>iday</th>\n",
              "      <th>nkill</th>\n",
              "    </tr>\n",
              "  </thead>\n",
              "  <tbody>\n",
              "    <tr>\n",
              "      <th>count</th>\n",
              "      <td>181691.000000</td>\n",
              "      <td>181691.000000</td>\n",
              "      <td>181691.000000</td>\n",
              "      <td>181691.000000</td>\n",
              "    </tr>\n",
              "    <tr>\n",
              "      <th>mean</th>\n",
              "      <td>2002.638997</td>\n",
              "      <td>6.467277</td>\n",
              "      <td>15.505644</td>\n",
              "      <td>2.266860</td>\n",
              "    </tr>\n",
              "    <tr>\n",
              "      <th>std</th>\n",
              "      <td>13.259430</td>\n",
              "      <td>3.388303</td>\n",
              "      <td>8.814045</td>\n",
              "      <td>11.227057</td>\n",
              "    </tr>\n",
              "    <tr>\n",
              "      <th>min</th>\n",
              "      <td>1970.000000</td>\n",
              "      <td>0.000000</td>\n",
              "      <td>0.000000</td>\n",
              "      <td>0.000000</td>\n",
              "    </tr>\n",
              "    <tr>\n",
              "      <th>25%</th>\n",
              "      <td>1991.000000</td>\n",
              "      <td>4.000000</td>\n",
              "      <td>8.000000</td>\n",
              "      <td>0.000000</td>\n",
              "    </tr>\n",
              "    <tr>\n",
              "      <th>50%</th>\n",
              "      <td>2009.000000</td>\n",
              "      <td>6.000000</td>\n",
              "      <td>15.000000</td>\n",
              "      <td>0.000000</td>\n",
              "    </tr>\n",
              "    <tr>\n",
              "      <th>75%</th>\n",
              "      <td>2014.000000</td>\n",
              "      <td>9.000000</td>\n",
              "      <td>23.000000</td>\n",
              "      <td>2.000000</td>\n",
              "    </tr>\n",
              "    <tr>\n",
              "      <th>max</th>\n",
              "      <td>2017.000000</td>\n",
              "      <td>12.000000</td>\n",
              "      <td>31.000000</td>\n",
              "      <td>1570.000000</td>\n",
              "    </tr>\n",
              "  </tbody>\n",
              "</table>\n",
              "</div>"
            ],
            "text/plain": [
              "               iyear         imonth           iday          nkill\n",
              "count  181691.000000  181691.000000  181691.000000  181691.000000\n",
              "mean     2002.638997       6.467277      15.505644       2.266860\n",
              "std        13.259430       3.388303       8.814045      11.227057\n",
              "min      1970.000000       0.000000       0.000000       0.000000\n",
              "25%      1991.000000       4.000000       8.000000       0.000000\n",
              "50%      2009.000000       6.000000      15.000000       0.000000\n",
              "75%      2014.000000       9.000000      23.000000       2.000000\n",
              "max      2017.000000      12.000000      31.000000    1570.000000"
            ]
          },
          "metadata": {},
          "execution_count": 11
        }
      ]
    },
    {
      "cell_type": "code",
      "metadata": {
        "id": "rXK9XaGov1cJ"
      },
      "source": [
        "#Saving CSV in system for creating better visuals with Tableau\n",
        "\n",
        "terror_df.to_excel(\"/content/drive/MyDrive/AlmaBetter/Capstone Project - EDA/terror.xlsx\")"
      ],
      "execution_count": null,
      "outputs": []
    },
    {
      "cell_type": "markdown",
      "metadata": {
        "id": "UsDoOmRMyzHI"
      },
      "source": [
        "#### **1. Now that we have got our data sorted, it is time to begin with regions that have faced most terror attacks. This will be achieved by grouping the data according to region. We will also analyse the top-20 countries according to number of attacks on them.**"
      ]
    },
    {
      "cell_type": "code",
      "metadata": {
        "id": "XVCydkVav6Mn",
        "colab": {
          "base_uri": "https://localhost:8080/",
          "height": 426
        },
        "outputId": "a94711be-73dd-4400-ce4f-8a23d515238c"
      },
      "source": [
        "#Making a new dataframe grouped by region\n",
        "\n",
        "top_affected_region = terror_df['region_txt'].value_counts().reset_index()\n",
        "top_affected_region.columns = ['region','attacks']\n",
        "top_affected_region"
      ],
      "execution_count": 12,
      "outputs": [
        {
          "output_type": "execute_result",
          "data": {
            "text/html": [
              "<div>\n",
              "<style scoped>\n",
              "    .dataframe tbody tr th:only-of-type {\n",
              "        vertical-align: middle;\n",
              "    }\n",
              "\n",
              "    .dataframe tbody tr th {\n",
              "        vertical-align: top;\n",
              "    }\n",
              "\n",
              "    .dataframe thead th {\n",
              "        text-align: right;\n",
              "    }\n",
              "</style>\n",
              "<table border=\"1\" class=\"dataframe\">\n",
              "  <thead>\n",
              "    <tr style=\"text-align: right;\">\n",
              "      <th></th>\n",
              "      <th>region</th>\n",
              "      <th>attacks</th>\n",
              "    </tr>\n",
              "  </thead>\n",
              "  <tbody>\n",
              "    <tr>\n",
              "      <th>0</th>\n",
              "      <td>Middle East &amp; North Africa</td>\n",
              "      <td>50474</td>\n",
              "    </tr>\n",
              "    <tr>\n",
              "      <th>1</th>\n",
              "      <td>South Asia</td>\n",
              "      <td>44974</td>\n",
              "    </tr>\n",
              "    <tr>\n",
              "      <th>2</th>\n",
              "      <td>South America</td>\n",
              "      <td>18978</td>\n",
              "    </tr>\n",
              "    <tr>\n",
              "      <th>3</th>\n",
              "      <td>Sub-Saharan Africa</td>\n",
              "      <td>17550</td>\n",
              "    </tr>\n",
              "    <tr>\n",
              "      <th>4</th>\n",
              "      <td>Western Europe</td>\n",
              "      <td>16639</td>\n",
              "    </tr>\n",
              "    <tr>\n",
              "      <th>5</th>\n",
              "      <td>Southeast Asia</td>\n",
              "      <td>12485</td>\n",
              "    </tr>\n",
              "    <tr>\n",
              "      <th>6</th>\n",
              "      <td>Central America &amp; Caribbean</td>\n",
              "      <td>10344</td>\n",
              "    </tr>\n",
              "    <tr>\n",
              "      <th>7</th>\n",
              "      <td>Eastern Europe</td>\n",
              "      <td>5144</td>\n",
              "    </tr>\n",
              "    <tr>\n",
              "      <th>8</th>\n",
              "      <td>North America</td>\n",
              "      <td>3456</td>\n",
              "    </tr>\n",
              "    <tr>\n",
              "      <th>9</th>\n",
              "      <td>East Asia</td>\n",
              "      <td>802</td>\n",
              "    </tr>\n",
              "    <tr>\n",
              "      <th>10</th>\n",
              "      <td>Central Asia</td>\n",
              "      <td>563</td>\n",
              "    </tr>\n",
              "    <tr>\n",
              "      <th>11</th>\n",
              "      <td>Australasia &amp; Oceania</td>\n",
              "      <td>282</td>\n",
              "    </tr>\n",
              "  </tbody>\n",
              "</table>\n",
              "</div>"
            ],
            "text/plain": [
              "                         region  attacks\n",
              "0    Middle East & North Africa    50474\n",
              "1                    South Asia    44974\n",
              "2                 South America    18978\n",
              "3            Sub-Saharan Africa    17550\n",
              "4                Western Europe    16639\n",
              "5                Southeast Asia    12485\n",
              "6   Central America & Caribbean    10344\n",
              "7                Eastern Europe     5144\n",
              "8                 North America     3456\n",
              "9                     East Asia      802\n",
              "10                 Central Asia      563\n",
              "11        Australasia & Oceania      282"
            ]
          },
          "metadata": {},
          "execution_count": 12
        }
      ]
    },
    {
      "cell_type": "code",
      "metadata": {
        "colab": {
          "base_uri": "https://localhost:8080/",
          "height": 501
        },
        "id": "t1BztX0hy1s0",
        "outputId": "e3e8e25d-5e35-4fe1-894a-360e7239d9c5"
      },
      "source": [
        "#Plotting regions vs number of attacks faced\n",
        "\n",
        "fig = plt.figure(figsize =(24,8))\n",
        "plt.bar(top_affected_region['region'], top_affected_region['attacks'])"
      ],
      "execution_count": 13,
      "outputs": [
        {
          "output_type": "execute_result",
          "data": {
            "text/plain": [
              "<BarContainer object of 12 artists>"
            ]
          },
          "metadata": {},
          "execution_count": 13
        },
        {
          "output_type": "display_data",
          "data": {
            "image/png": "[encoded data removed]",
            "text/plain": [
              "<Figure size 1728x576 with 1 Axes>"
            ]
          },
          "metadata": {
            "needs_background": "light"
          }
        }
      ]
    },
    {
      "cell_type": "code",
      "metadata": {
        "id": "bdzxVd_xy4Kn"
      },
      "source": [
        "#Making a new dataframe grouped by countries\n",
        "\n",
        "country_wise_terrorism = terror_df['country_txt'].value_counts().reset_index()\n",
        "top_20_countries = country_wise_terrorism.head(20)\n",
        "top_20_countries.columns = ['country','number_of_attacks']"
      ],
      "execution_count": 14,
      "outputs": []
    },
    {
      "cell_type": "code",
      "metadata": {
        "colab": {
          "base_uri": "https://localhost:8080/",
          "height": 501
        },
        "id": "POc8LVlky7FL",
        "outputId": "712f1f3d-8c1e-4c11-cc40-618d189c9473"
      },
      "source": [
        "#Plotting countries vs number of attacks faced\n",
        "\n",
        "fig = plt.figure(figsize =(24,8))\n",
        "plt.bar(top_20_countries['country'], top_20_countries['number_of_attacks'])"
      ],
      "execution_count": 15,
      "outputs": [
        {
          "output_type": "execute_result",
          "data": {
            "text/plain": [
              "<BarContainer object of 20 artists>"
            ]
          },
          "metadata": {},
          "execution_count": 15
        },
        {
          "output_type": "display_data",
          "data": {
            "image/png": "[encoded data removed]",
            "text/plain": [
              "<Figure size 1728x576 with 1 Axes>"
            ]
          },
          "metadata": {
            "needs_background": "light"
          }
        }
      ]
    },
    {
      "cell_type": "markdown",
      "metadata": {
        "id": "6S16YJf9zAki"
      },
      "source": [
        "As seen, most cases are from Middle East and Northern Africa primarily due to Iraq being a huge outlier in terms of the number of attacks faced. If we remove Iraq from the dataset, Middle East might not look actually bad.\n",
        "\n",
        "However, same is not the case with South Asia where Pakistan, Afghanistan, and India have all faced massive number of terror attacks over the years.\n",
        "\n",
        "**Concluding the first phase - While Middle East and North Africa look more dangerous due to Iraq, as a region overall - South Asia is in more danger of facing terror attacks.**"
      ]
    },
    {
      "cell_type": "markdown",
      "metadata": {
        "id": "MWA64XUKzEqY"
      },
      "source": [
        "### **2. Now we are going to have a look at how the number of terror attacks have changed over the years and if there is a specific time of year that has faced drastically more terror attacks than other months**"
      ]
    },
    {
      "cell_type": "code",
      "metadata": {
        "colab": {
          "base_uri": "https://localhost:8080/",
          "height": 515
        },
        "id": "QADbZRSUy9M4",
        "outputId": "e323c469-990d-4fcb-e8d6-5746de487cb2"
      },
      "source": [
        "#Has terrorism seen a sharp rise or fall in the recent years?\n",
        "\n",
        "fig = plt.figure(figsize =(12,8))\n",
        "sns.histplot(terror_df, x = 'iyear', bins = 48, kde = True)"
      ],
      "execution_count": 16,
      "outputs": [
        {
          "output_type": "execute_result",
          "data": {
            "text/plain": [
              "<matplotlib.axes._subplots.AxesSubplot at 0x7f85490468d0>"
            ]
          },
          "metadata": {},
          "execution_count": 16
        },
        {
          "output_type": "display_data",
          "data": {
            "image/png": "[encoded data removed]",
            "text/plain": [
              "<Figure size 864x576 with 1 Axes>"
            ]
          },
          "metadata": {
            "needs_background": "light"
          }
        }
      ]
    },
    {
      "cell_type": "code",
      "metadata": {
        "colab": {
          "base_uri": "https://localhost:8080/",
          "height": 515
        },
        "id": "4kwlI9-kzGz1",
        "outputId": "8fc5fb8d-8d7c-4dfc-e47d-c6bde614cecd"
      },
      "source": [
        "#What time of the year is prone to terror attacks the most\n",
        "\n",
        "fig = plt.figure(figsize =(12,8))\n",
        "sns.histplot(terror_df, x = 'imonth', bins = 12)"
      ],
      "execution_count": 17,
      "outputs": [
        {
          "output_type": "execute_result",
          "data": {
            "text/plain": [
              "<matplotlib.axes._subplots.AxesSubplot at 0x7f8548b2c590>"
            ]
          },
          "metadata": {},
          "execution_count": 17
        },
        {
          "output_type": "display_data",
          "data": {
            "image/png": "[encoded data removed]",
            "text/plain": [
              "<Figure size 864x576 with 1 Axes>"
            ]
          },
          "metadata": {
            "needs_background": "light"
          }
        }
      ]
    },
    {
      "cell_type": "markdown",
      "metadata": {
        "id": "DooQux7NzNvl"
      },
      "source": [
        "***Winter is coming***, is more than just a TV series phrase going by the analysis of this dataset. Most terror attacks happened in December, in Middle East and Asia, showing how terror groups are more active when the winter sets in? Do we have data of why this happens? No. \n",
        "\n",
        "**But what it does tell us is the time when a country's forces can be more alert in order to reduce the losses.**"
      ]
    },
    {
      "cell_type": "markdown",
      "metadata": {
        "id": "ncW5p-AMQ4Uv"
      },
      "source": [
        "### **3. Now that we know about what places and what years have suffered terror attacks, it is time to dive deeper and analyze which regions and countries had most casualities.**"
      ]
    },
    {
      "cell_type": "code",
      "metadata": {
        "id": "zMd8pelRzI4m"
      },
      "source": [
        "#Analyzing casualties by regions\n",
        "\n",
        "casualties_df = terror_df.groupby('region_txt')['nkill'].sum().reset_index()\n",
        "casualties_df = casualties_df.sort_values(by = 'nkill', ascending = False)\n",
        "casualties_df.columns = ['region', 'nkill']"
      ],
      "execution_count": 18,
      "outputs": []
    },
    {
      "cell_type": "code",
      "metadata": {
        "colab": {
          "base_uri": "https://localhost:8080/",
          "height": 426
        },
        "id": "_pcjnUiaRLaz",
        "outputId": "8d7bddfd-4005-4c81-a8ed-6d9c0652cbd4"
      },
      "source": [
        "casualties_df"
      ],
      "execution_count": 19,
      "outputs": [
        {
          "output_type": "execute_result",
          "data": {
            "text/html": [
              "<div>\n",
              "<style scoped>\n",
              "    .dataframe tbody tr th:only-of-type {\n",
              "        vertical-align: middle;\n",
              "    }\n",
              "\n",
              "    .dataframe tbody tr th {\n",
              "        vertical-align: top;\n",
              "    }\n",
              "\n",
              "    .dataframe thead th {\n",
              "        text-align: right;\n",
              "    }\n",
              "</style>\n",
              "<table border=\"1\" class=\"dataframe\">\n",
              "  <thead>\n",
              "    <tr style=\"text-align: right;\">\n",
              "      <th></th>\n",
              "      <th>region</th>\n",
              "      <th>nkill</th>\n",
              "    </tr>\n",
              "  </thead>\n",
              "  <tbody>\n",
              "    <tr>\n",
              "      <th>5</th>\n",
              "      <td>Middle East &amp; North Africa</td>\n",
              "      <td>137642.0</td>\n",
              "    </tr>\n",
              "    <tr>\n",
              "      <th>8</th>\n",
              "      <td>South Asia</td>\n",
              "      <td>101319.0</td>\n",
              "    </tr>\n",
              "    <tr>\n",
              "      <th>10</th>\n",
              "      <td>Sub-Saharan Africa</td>\n",
              "      <td>78386.0</td>\n",
              "    </tr>\n",
              "    <tr>\n",
              "      <th>7</th>\n",
              "      <td>South America</td>\n",
              "      <td>28849.0</td>\n",
              "    </tr>\n",
              "    <tr>\n",
              "      <th>1</th>\n",
              "      <td>Central America &amp; Caribbean</td>\n",
              "      <td>28708.0</td>\n",
              "    </tr>\n",
              "    <tr>\n",
              "      <th>9</th>\n",
              "      <td>Southeast Asia</td>\n",
              "      <td>15637.0</td>\n",
              "    </tr>\n",
              "    <tr>\n",
              "      <th>4</th>\n",
              "      <td>Eastern Europe</td>\n",
              "      <td>7415.0</td>\n",
              "    </tr>\n",
              "    <tr>\n",
              "      <th>11</th>\n",
              "      <td>Western Europe</td>\n",
              "      <td>6694.0</td>\n",
              "    </tr>\n",
              "    <tr>\n",
              "      <th>6</th>\n",
              "      <td>North America</td>\n",
              "      <td>4916.0</td>\n",
              "    </tr>\n",
              "    <tr>\n",
              "      <th>3</th>\n",
              "      <td>East Asia</td>\n",
              "      <td>1152.0</td>\n",
              "    </tr>\n",
              "    <tr>\n",
              "      <th>2</th>\n",
              "      <td>Central Asia</td>\n",
              "      <td>1000.0</td>\n",
              "    </tr>\n",
              "    <tr>\n",
              "      <th>0</th>\n",
              "      <td>Australasia &amp; Oceania</td>\n",
              "      <td>150.0</td>\n",
              "    </tr>\n",
              "  </tbody>\n",
              "</table>\n",
              "</div>"
            ],
            "text/plain": [
              "                         region     nkill\n",
              "5    Middle East & North Africa  137642.0\n",
              "8                    South Asia  101319.0\n",
              "10           Sub-Saharan Africa   78386.0\n",
              "7                 South America   28849.0\n",
              "1   Central America & Caribbean   28708.0\n",
              "9                Southeast Asia   15637.0\n",
              "4                Eastern Europe    7415.0\n",
              "11               Western Europe    6694.0\n",
              "6                 North America    4916.0\n",
              "3                     East Asia    1152.0\n",
              "2                  Central Asia    1000.0\n",
              "0         Australasia & Oceania     150.0"
            ]
          },
          "metadata": {},
          "execution_count": 19
        }
      ]
    },
    {
      "cell_type": "code",
      "metadata": {
        "id": "jYRRDqAGROPh"
      },
      "source": [
        "#Analyzing by countries\n",
        "\n",
        "country_casualties = terror_df.groupby('country_txt')['nkill'].sum().reset_index()\n",
        "country_casualties.columns = ['country','nkill']\n",
        "country_casualties = country_casualties.sort_values(by = 'nkill', ascending = False)"
      ],
      "execution_count": 20,
      "outputs": []
    },
    {
      "cell_type": "code",
      "metadata": {
        "colab": {
          "base_uri": "https://localhost:8080/",
          "height": 206
        },
        "id": "wDEaey-qRWTK",
        "outputId": "1af6c1b4-3bbe-45ff-d9db-511baeab592c"
      },
      "source": [
        "country_casualties.head()"
      ],
      "execution_count": 21,
      "outputs": [
        {
          "output_type": "execute_result",
          "data": {
            "text/html": [
              "<div>\n",
              "<style scoped>\n",
              "    .dataframe tbody tr th:only-of-type {\n",
              "        vertical-align: middle;\n",
              "    }\n",
              "\n",
              "    .dataframe tbody tr th {\n",
              "        vertical-align: top;\n",
              "    }\n",
              "\n",
              "    .dataframe thead th {\n",
              "        text-align: right;\n",
              "    }\n",
              "</style>\n",
              "<table border=\"1\" class=\"dataframe\">\n",
              "  <thead>\n",
              "    <tr style=\"text-align: right;\">\n",
              "      <th></th>\n",
              "      <th>country</th>\n",
              "      <th>nkill</th>\n",
              "    </tr>\n",
              "  </thead>\n",
              "  <tbody>\n",
              "    <tr>\n",
              "      <th>84</th>\n",
              "      <td>Iraq</td>\n",
              "      <td>78589.0</td>\n",
              "    </tr>\n",
              "    <tr>\n",
              "      <th>0</th>\n",
              "      <td>Afghanistan</td>\n",
              "      <td>39384.0</td>\n",
              "    </tr>\n",
              "    <tr>\n",
              "      <th>134</th>\n",
              "      <td>Pakistan</td>\n",
              "      <td>23822.0</td>\n",
              "    </tr>\n",
              "    <tr>\n",
              "      <th>130</th>\n",
              "      <td>Nigeria</td>\n",
              "      <td>22682.0</td>\n",
              "    </tr>\n",
              "    <tr>\n",
              "      <th>80</th>\n",
              "      <td>India</td>\n",
              "      <td>19341.0</td>\n",
              "    </tr>\n",
              "  </tbody>\n",
              "</table>\n",
              "</div>"
            ],
            "text/plain": [
              "         country    nkill\n",
              "84          Iraq  78589.0\n",
              "0    Afghanistan  39384.0\n",
              "134     Pakistan  23822.0\n",
              "130      Nigeria  22682.0\n",
              "80         India  19341.0"
            ]
          },
          "metadata": {},
          "execution_count": 21
        }
      ]
    },
    {
      "cell_type": "markdown",
      "metadata": {
        "id": "40ILtuwIRajr"
      },
      "source": [
        "Middle East and North Africa lost most lives due to terror attacks with Iraq leading the table once again when it comes to countries."
      ]
    },
    {
      "cell_type": "code",
      "metadata": {
        "id": "K9mzh5vkRXwm"
      },
      "source": [
        "#Regions and Countries with highest casualties per attack ratio - \n",
        "\n",
        "worst_affected_regions = pd.merge(casualties_df,top_affected_region, on = 'region')\n",
        "worst_affected_regions['casualties_ratio'] = worst_affected_regions['nkill']/worst_affected_regions['attacks']\n",
        "worst_affected_regions = worst_affected_regions.sort_values(by = 'casualties_ratio', ascending = False)"
      ],
      "execution_count": 22,
      "outputs": []
    },
    {
      "cell_type": "code",
      "metadata": {
        "colab": {
          "base_uri": "https://localhost:8080/",
          "height": 426
        },
        "id": "mTs5YKJzRdT5",
        "outputId": "97e3cac3-aac7-4fcd-b7e1-fead49a5cf09"
      },
      "source": [
        "worst_affected_regions"
      ],
      "execution_count": 23,
      "outputs": [
        {
          "output_type": "execute_result",
          "data": {
            "text/html": [
              "<div>\n",
              "<style scoped>\n",
              "    .dataframe tbody tr th:only-of-type {\n",
              "        vertical-align: middle;\n",
              "    }\n",
              "\n",
              "    .dataframe tbody tr th {\n",
              "        vertical-align: top;\n",
              "    }\n",
              "\n",
              "    .dataframe thead th {\n",
              "        text-align: right;\n",
              "    }\n",
              "</style>\n",
              "<table border=\"1\" class=\"dataframe\">\n",
              "  <thead>\n",
              "    <tr style=\"text-align: right;\">\n",
              "      <th></th>\n",
              "      <th>region</th>\n",
              "      <th>nkill</th>\n",
              "      <th>attacks</th>\n",
              "      <th>casualties_ratio</th>\n",
              "    </tr>\n",
              "  </thead>\n",
              "  <tbody>\n",
              "    <tr>\n",
              "      <th>2</th>\n",
              "      <td>Sub-Saharan Africa</td>\n",
              "      <td>78386.0</td>\n",
              "      <td>17550</td>\n",
              "      <td>4.466439</td>\n",
              "    </tr>\n",
              "    <tr>\n",
              "      <th>4</th>\n",
              "      <td>Central America &amp; Caribbean</td>\n",
              "      <td>28708.0</td>\n",
              "      <td>10344</td>\n",
              "      <td>2.775329</td>\n",
              "    </tr>\n",
              "    <tr>\n",
              "      <th>0</th>\n",
              "      <td>Middle East &amp; North Africa</td>\n",
              "      <td>137642.0</td>\n",
              "      <td>50474</td>\n",
              "      <td>2.726988</td>\n",
              "    </tr>\n",
              "    <tr>\n",
              "      <th>1</th>\n",
              "      <td>South Asia</td>\n",
              "      <td>101319.0</td>\n",
              "      <td>44974</td>\n",
              "      <td>2.252835</td>\n",
              "    </tr>\n",
              "    <tr>\n",
              "      <th>10</th>\n",
              "      <td>Central Asia</td>\n",
              "      <td>1000.0</td>\n",
              "      <td>563</td>\n",
              "      <td>1.776199</td>\n",
              "    </tr>\n",
              "    <tr>\n",
              "      <th>3</th>\n",
              "      <td>South America</td>\n",
              "      <td>28849.0</td>\n",
              "      <td>18978</td>\n",
              "      <td>1.520129</td>\n",
              "    </tr>\n",
              "    <tr>\n",
              "      <th>6</th>\n",
              "      <td>Eastern Europe</td>\n",
              "      <td>7415.0</td>\n",
              "      <td>5144</td>\n",
              "      <td>1.441485</td>\n",
              "    </tr>\n",
              "    <tr>\n",
              "      <th>9</th>\n",
              "      <td>East Asia</td>\n",
              "      <td>1152.0</td>\n",
              "      <td>802</td>\n",
              "      <td>1.436409</td>\n",
              "    </tr>\n",
              "    <tr>\n",
              "      <th>8</th>\n",
              "      <td>North America</td>\n",
              "      <td>4916.0</td>\n",
              "      <td>3456</td>\n",
              "      <td>1.422454</td>\n",
              "    </tr>\n",
              "    <tr>\n",
              "      <th>5</th>\n",
              "      <td>Southeast Asia</td>\n",
              "      <td>15637.0</td>\n",
              "      <td>12485</td>\n",
              "      <td>1.252463</td>\n",
              "    </tr>\n",
              "    <tr>\n",
              "      <th>11</th>\n",
              "      <td>Australasia &amp; Oceania</td>\n",
              "      <td>150.0</td>\n",
              "      <td>282</td>\n",
              "      <td>0.531915</td>\n",
              "    </tr>\n",
              "    <tr>\n",
              "      <th>7</th>\n",
              "      <td>Western Europe</td>\n",
              "      <td>6694.0</td>\n",
              "      <td>16639</td>\n",
              "      <td>0.402308</td>\n",
              "    </tr>\n",
              "  </tbody>\n",
              "</table>\n",
              "</div>"
            ],
            "text/plain": [
              "                         region     nkill  attacks  casualties_ratio\n",
              "2            Sub-Saharan Africa   78386.0    17550          4.466439\n",
              "4   Central America & Caribbean   28708.0    10344          2.775329\n",
              "0    Middle East & North Africa  137642.0    50474          2.726988\n",
              "1                    South Asia  101319.0    44974          2.252835\n",
              "10                 Central Asia    1000.0      563          1.776199\n",
              "3                 South America   28849.0    18978          1.520129\n",
              "6                Eastern Europe    7415.0     5144          1.441485\n",
              "9                     East Asia    1152.0      802          1.436409\n",
              "8                 North America    4916.0     3456          1.422454\n",
              "5                Southeast Asia   15637.0    12485          1.252463\n",
              "11        Australasia & Oceania     150.0      282          0.531915\n",
              "7                Western Europe    6694.0    16639          0.402308"
            ]
          },
          "metadata": {},
          "execution_count": 23
        }
      ]
    },
    {
      "cell_type": "markdown",
      "metadata": {
        "id": "O9eSdwRfRi66"
      },
      "source": [
        "However, when it comes to lost lives per terror attack, Sub-Saharan Africa is way ahead of any other region, meaning that if attacks were to happen more frequently, they will suffer the worst. This region needs to increase security drastically because even the second worst region in terms of casualties ratio is far less."
      ]
    },
    {
      "cell_type": "code",
      "metadata": {
        "id": "2WtehFRbRe_4"
      },
      "source": [
        "#Doing same analysis for countries\n",
        "\n",
        "worst_affected_countries = pd.merge(country_casualties.head(20), top_20_countries, on = 'country')\n",
        "worst_affected_countries['casualties_ratio'] = worst_affected_countries['nkill']/worst_affected_countries['number_of_attacks']\n",
        "worst_affected_countries = worst_affected_countries.sort_values(by = 'casualties_ratio', ascending = False)"
      ],
      "execution_count": 24,
      "outputs": []
    },
    {
      "cell_type": "code",
      "metadata": {
        "colab": {
          "base_uri": "https://localhost:8080/",
          "height": 488
        },
        "id": "TXFqYwB7RoPa",
        "outputId": "96a5ca89-45b4-46cc-b3f5-6232f0053a24"
      },
      "source": [
        "worst_affected_countries"
      ],
      "execution_count": 25,
      "outputs": [
        {
          "output_type": "execute_result",
          "data": {
            "text/html": [
              "<div>\n",
              "<style scoped>\n",
              "    .dataframe tbody tr th:only-of-type {\n",
              "        vertical-align: middle;\n",
              "    }\n",
              "\n",
              "    .dataframe tbody tr th {\n",
              "        vertical-align: top;\n",
              "    }\n",
              "\n",
              "    .dataframe thead th {\n",
              "        text-align: right;\n",
              "    }\n",
              "</style>\n",
              "<table border=\"1\" class=\"dataframe\">\n",
              "  <thead>\n",
              "    <tr style=\"text-align: right;\">\n",
              "      <th></th>\n",
              "      <th>country</th>\n",
              "      <th>nkill</th>\n",
              "      <th>number_of_attacks</th>\n",
              "      <th>casualties_ratio</th>\n",
              "    </tr>\n",
              "  </thead>\n",
              "  <tbody>\n",
              "    <tr>\n",
              "      <th>3</th>\n",
              "      <td>Nigeria</td>\n",
              "      <td>22682.0</td>\n",
              "      <td>3907</td>\n",
              "      <td>5.805477</td>\n",
              "    </tr>\n",
              "    <tr>\n",
              "      <th>5</th>\n",
              "      <td>Sri Lanka</td>\n",
              "      <td>15530.0</td>\n",
              "      <td>3022</td>\n",
              "      <td>5.138981</td>\n",
              "    </tr>\n",
              "    <tr>\n",
              "      <th>9</th>\n",
              "      <td>Algeria</td>\n",
              "      <td>11066.0</td>\n",
              "      <td>2743</td>\n",
              "      <td>4.034269</td>\n",
              "    </tr>\n",
              "    <tr>\n",
              "      <th>0</th>\n",
              "      <td>Iraq</td>\n",
              "      <td>78589.0</td>\n",
              "      <td>24636</td>\n",
              "      <td>3.190006</td>\n",
              "    </tr>\n",
              "    <tr>\n",
              "      <th>1</th>\n",
              "      <td>Afghanistan</td>\n",
              "      <td>39384.0</td>\n",
              "      <td>12731</td>\n",
              "      <td>3.093551</td>\n",
              "    </tr>\n",
              "    <tr>\n",
              "      <th>12</th>\n",
              "      <td>Yemen</td>\n",
              "      <td>8776.0</td>\n",
              "      <td>3347</td>\n",
              "      <td>2.622050</td>\n",
              "    </tr>\n",
              "    <tr>\n",
              "      <th>10</th>\n",
              "      <td>Somalia</td>\n",
              "      <td>10273.0</td>\n",
              "      <td>4142</td>\n",
              "      <td>2.480203</td>\n",
              "    </tr>\n",
              "    <tr>\n",
              "      <th>8</th>\n",
              "      <td>El Salvador</td>\n",
              "      <td>12053.0</td>\n",
              "      <td>5320</td>\n",
              "      <td>2.265602</td>\n",
              "    </tr>\n",
              "    <tr>\n",
              "      <th>7</th>\n",
              "      <td>Peru</td>\n",
              "      <td>12771.0</td>\n",
              "      <td>6096</td>\n",
              "      <td>2.094980</td>\n",
              "    </tr>\n",
              "    <tr>\n",
              "      <th>6</th>\n",
              "      <td>Colombia</td>\n",
              "      <td>14698.0</td>\n",
              "      <td>8306</td>\n",
              "      <td>1.769564</td>\n",
              "    </tr>\n",
              "    <tr>\n",
              "      <th>2</th>\n",
              "      <td>Pakistan</td>\n",
              "      <td>23822.0</td>\n",
              "      <td>14368</td>\n",
              "      <td>1.657990</td>\n",
              "    </tr>\n",
              "    <tr>\n",
              "      <th>4</th>\n",
              "      <td>India</td>\n",
              "      <td>19341.0</td>\n",
              "      <td>11960</td>\n",
              "      <td>1.617140</td>\n",
              "    </tr>\n",
              "    <tr>\n",
              "      <th>13</th>\n",
              "      <td>Turkey</td>\n",
              "      <td>6888.0</td>\n",
              "      <td>4292</td>\n",
              "      <td>1.604846</td>\n",
              "    </tr>\n",
              "    <tr>\n",
              "      <th>11</th>\n",
              "      <td>Philippines</td>\n",
              "      <td>9559.0</td>\n",
              "      <td>6908</td>\n",
              "      <td>1.383758</td>\n",
              "    </tr>\n",
              "  </tbody>\n",
              "</table>\n",
              "</div>"
            ],
            "text/plain": [
              "        country    nkill  number_of_attacks  casualties_ratio\n",
              "3       Nigeria  22682.0               3907          5.805477\n",
              "5     Sri Lanka  15530.0               3022          5.138981\n",
              "9       Algeria  11066.0               2743          4.034269\n",
              "0          Iraq  78589.0              24636          3.190006\n",
              "1   Afghanistan  39384.0              12731          3.093551\n",
              "12        Yemen   8776.0               3347          2.622050\n",
              "10      Somalia  10273.0               4142          2.480203\n",
              "8   El Salvador  12053.0               5320          2.265602\n",
              "7          Peru  12771.0               6096          2.094980\n",
              "6      Colombia  14698.0               8306          1.769564\n",
              "2      Pakistan  23822.0              14368          1.657990\n",
              "4         India  19341.0              11960          1.617140\n",
              "13       Turkey   6888.0               4292          1.604846\n",
              "11  Philippines   9559.0               6908          1.383758"
            ]
          },
          "metadata": {},
          "execution_count": 25
        }
      ]
    },
    {
      "cell_type": "markdown",
      "metadata": {
        "id": "pixErYvtRtKG"
      },
      "source": [
        "Analyzing countries, the top 4 nations suffering from terror attacks have far worse casualty/attack ratio than any other place in the list. Nigeria and Iraq specially seem to be having worst of both the worlds as they not only feature in top-5 when it comes to facing number of attacks, but also losing most lives per attack.\n",
        "\n",
        "Statistically, they are the most dangerous countries according to the dataset."
      ]
    },
    {
      "cell_type": "markdown",
      "metadata": {
        "id": "wRwmlkXaRx7T"
      },
      "source": [
        "## **4. Having gone through timing and worldwide influence of terror attacks, we take a look at even bigger perspective - who are the major preparators and in what forms do these attacks happen? Like how common are Bombing Explosion attacks in contrast to Kidnapping or Hijack ones?**"
      ]
    },
    {
      "cell_type": "code",
      "metadata": {
        "colab": {
          "base_uri": "https://localhost:8080/",
          "height": 331
        },
        "id": "XywpYBdORprh",
        "outputId": "fbae1b00-5f08-4354-dcc2-e2e7f1f21f5b"
      },
      "source": [
        "#Type of attacks that caused most casualties\n",
        "\n",
        "type_of_attacks = terror_df.groupby(['attacktype1_txt'])['nkill'].sum().reset_index()\n",
        "type_of_attacks.columns = ['attack_type', 'casualties']\n",
        "type_of_attacks = type_of_attacks.sort_values(by = 'casualties', ascending = False)\n",
        "type_of_attacks"
      ],
      "execution_count": 26,
      "outputs": [
        {
          "output_type": "execute_result",
          "data": {
            "text/html": [
              "<div>\n",
              "<style scoped>\n",
              "    .dataframe tbody tr th:only-of-type {\n",
              "        vertical-align: middle;\n",
              "    }\n",
              "\n",
              "    .dataframe tbody tr th {\n",
              "        vertical-align: top;\n",
              "    }\n",
              "\n",
              "    .dataframe thead th {\n",
              "        text-align: right;\n",
              "    }\n",
              "</style>\n",
              "<table border=\"1\" class=\"dataframe\">\n",
              "  <thead>\n",
              "    <tr style=\"text-align: right;\">\n",
              "      <th></th>\n",
              "      <th>attack_type</th>\n",
              "      <th>casualties</th>\n",
              "    </tr>\n",
              "  </thead>\n",
              "  <tbody>\n",
              "    <tr>\n",
              "      <th>0</th>\n",
              "      <td>Armed Assault</td>\n",
              "      <td>160297.0</td>\n",
              "    </tr>\n",
              "    <tr>\n",
              "      <th>2</th>\n",
              "      <td>Bombing/Explosion</td>\n",
              "      <td>157321.0</td>\n",
              "    </tr>\n",
              "    <tr>\n",
              "      <th>8</th>\n",
              "      <td>Unknown</td>\n",
              "      <td>32381.0</td>\n",
              "    </tr>\n",
              "    <tr>\n",
              "      <th>1</th>\n",
              "      <td>Assassination</td>\n",
              "      <td>24920.0</td>\n",
              "    </tr>\n",
              "    <tr>\n",
              "      <th>6</th>\n",
              "      <td>Hostage Taking (Kidnapping)</td>\n",
              "      <td>24231.0</td>\n",
              "    </tr>\n",
              "    <tr>\n",
              "      <th>5</th>\n",
              "      <td>Hostage Taking (Barricade Incident)</td>\n",
              "      <td>4478.0</td>\n",
              "    </tr>\n",
              "    <tr>\n",
              "      <th>4</th>\n",
              "      <td>Hijacking</td>\n",
              "      <td>3718.0</td>\n",
              "    </tr>\n",
              "    <tr>\n",
              "      <th>3</th>\n",
              "      <td>Facility/Infrastructure Attack</td>\n",
              "      <td>3642.0</td>\n",
              "    </tr>\n",
              "    <tr>\n",
              "      <th>7</th>\n",
              "      <td>Unarmed Assault</td>\n",
              "      <td>880.0</td>\n",
              "    </tr>\n",
              "  </tbody>\n",
              "</table>\n",
              "</div>"
            ],
            "text/plain": [
              "                           attack_type  casualties\n",
              "0                        Armed Assault    160297.0\n",
              "2                    Bombing/Explosion    157321.0\n",
              "8                              Unknown     32381.0\n",
              "1                        Assassination     24920.0\n",
              "6          Hostage Taking (Kidnapping)     24231.0\n",
              "5  Hostage Taking (Barricade Incident)      4478.0\n",
              "4                            Hijacking      3718.0\n",
              "3       Facility/Infrastructure Attack      3642.0\n",
              "7                      Unarmed Assault       880.0"
            ]
          },
          "metadata": {},
          "execution_count": 26
        }
      ]
    },
    {
      "cell_type": "code",
      "metadata": {
        "colab": {
          "base_uri": "https://localhost:8080/",
          "height": 501
        },
        "id": "M4-xuCwKR09e",
        "outputId": "09c25498-6e3a-441f-9044-89db66987269"
      },
      "source": [
        "fig = plt.figure(figsize =(24,8))\n",
        "plt.bar(type_of_attacks['attack_type'], type_of_attacks['casualties'])"
      ],
      "execution_count": 27,
      "outputs": [
        {
          "output_type": "execute_result",
          "data": {
            "text/plain": [
              "<BarContainer object of 9 artists>"
            ]
          },
          "metadata": {},
          "execution_count": 27
        },
        {
          "output_type": "display_data",
          "data": {
            "image/png": "[encoded data removed]",
            "text/plain": [
              "<Figure size 1728x576 with 1 Axes>"
            ]
          },
          "metadata": {
            "needs_background": "light"
          }
        }
      ]
    },
    {
      "cell_type": "markdown",
      "metadata": {
        "id": "Qak72xxvR7QU"
      },
      "source": [
        "Unexpectedly, Armed Assaults are the main matter of concern followed by Bombing/Explosion. While the latter take most attention, it should be noted that former is an equally responsible reason for high casulaties if not more!\n",
        "\n",
        "Now, time to find out the major forces responsible for these attacks!"
      ]
    },
    {
      "cell_type": "code",
      "metadata": {
        "id": "xZTdH93ZR5Cl"
      },
      "source": [
        "#Counting the number of attacks undertaken grouped by group names\n",
        "\n",
        "group_count = terror_df['gname'].value_counts().reset_index()\n",
        "group_count.columns = ['group', 'attack_count']\n",
        "group_count = group_count.head(20)"
      ],
      "execution_count": 28,
      "outputs": []
    },
    {
      "cell_type": "code",
      "metadata": {
        "id": "1wNuFXLjR-HS"
      },
      "source": [
        "major_groups = terror_df.groupby(['gname'])['nkill'].sum().reset_index()\n",
        "major_groups.columns = ['group','casualties']\n",
        "major_groups = major_groups.sort_values(by = 'casualties', ascending = False)\n",
        "major_groups = major_groups.head(20)"
      ],
      "execution_count": 29,
      "outputs": []
    },
    {
      "cell_type": "code",
      "metadata": {
        "colab": {
          "base_uri": "https://localhost:8080/",
          "height": 457
        },
        "id": "1FW1mQzBR_s0",
        "outputId": "45858f90-5500-4503-d758-5eb1bba10ae1"
      },
      "source": [
        "#Worst terror groups by casualties/attack ratio\n",
        "\n",
        "worst_terror_groups = pd.merge(major_groups, group_count, how = 'inner', on = 'group')\n",
        "worst_terror_groups['casualty_ratio'] = worst_terror_groups['casualties']/worst_terror_groups['attack_count']\n",
        "worst_terror_groups = worst_terror_groups.sort_values(by = 'casualty_ratio', ascending = False)\n",
        "worst_terror_groups = worst_terror_groups.drop(0, axis = 0)\n",
        "worst_terror_groups"
      ],
      "execution_count": 30,
      "outputs": [
        {
          "output_type": "execute_result",
          "data": {
            "text/html": [
              "<div>\n",
              "<style scoped>\n",
              "    .dataframe tbody tr th:only-of-type {\n",
              "        vertical-align: middle;\n",
              "    }\n",
              "\n",
              "    .dataframe tbody tr th {\n",
              "        vertical-align: top;\n",
              "    }\n",
              "\n",
              "    .dataframe thead th {\n",
              "        text-align: right;\n",
              "    }\n",
              "</style>\n",
              "<table border=\"1\" class=\"dataframe\">\n",
              "  <thead>\n",
              "    <tr style=\"text-align: right;\">\n",
              "      <th></th>\n",
              "      <th>group</th>\n",
              "      <th>casualties</th>\n",
              "      <th>attack_count</th>\n",
              "      <th>casualty_ratio</th>\n",
              "    </tr>\n",
              "  </thead>\n",
              "  <tbody>\n",
              "    <tr>\n",
              "      <th>3</th>\n",
              "      <td>Boko Haram</td>\n",
              "      <td>20328.0</td>\n",
              "      <td>2418</td>\n",
              "      <td>8.406948</td>\n",
              "    </tr>\n",
              "    <tr>\n",
              "      <th>1</th>\n",
              "      <td>Islamic State of Iraq and the Levant (ISIL)</td>\n",
              "      <td>38923.0</td>\n",
              "      <td>5613</td>\n",
              "      <td>6.934438</td>\n",
              "    </tr>\n",
              "    <tr>\n",
              "      <th>5</th>\n",
              "      <td>Liberation Tigers of Tamil Eelam (LTTE)</td>\n",
              "      <td>10989.0</td>\n",
              "      <td>1606</td>\n",
              "      <td>6.842466</td>\n",
              "    </tr>\n",
              "    <tr>\n",
              "      <th>8</th>\n",
              "      <td>Tehrik-i-Taliban Pakistan (TTP)</td>\n",
              "      <td>6042.0</td>\n",
              "      <td>1351</td>\n",
              "      <td>4.472243</td>\n",
              "    </tr>\n",
              "    <tr>\n",
              "      <th>2</th>\n",
              "      <td>Taliban</td>\n",
              "      <td>29410.0</td>\n",
              "      <td>7478</td>\n",
              "      <td>3.932870</td>\n",
              "    </tr>\n",
              "    <tr>\n",
              "      <th>12</th>\n",
              "      <td>Al-Qaida in the Arabian Peninsula (AQAP)</td>\n",
              "      <td>3565.0</td>\n",
              "      <td>1020</td>\n",
              "      <td>3.495098</td>\n",
              "    </tr>\n",
              "    <tr>\n",
              "      <th>13</th>\n",
              "      <td>Houthi extremists (Ansar Allah)</td>\n",
              "      <td>3050.0</td>\n",
              "      <td>1062</td>\n",
              "      <td>2.871940</td>\n",
              "    </tr>\n",
              "    <tr>\n",
              "      <th>6</th>\n",
              "      <td>Al-Shabaab</td>\n",
              "      <td>9330.0</td>\n",
              "      <td>3288</td>\n",
              "      <td>2.837591</td>\n",
              "    </tr>\n",
              "    <tr>\n",
              "      <th>4</th>\n",
              "      <td>Shining Path (SL)</td>\n",
              "      <td>11601.0</td>\n",
              "      <td>4555</td>\n",
              "      <td>2.546872</td>\n",
              "    </tr>\n",
              "    <tr>\n",
              "      <th>7</th>\n",
              "      <td>Farabundo Marti National Liberation Front (FMLN)</td>\n",
              "      <td>8065.0</td>\n",
              "      <td>3351</td>\n",
              "      <td>2.406744</td>\n",
              "    </tr>\n",
              "    <tr>\n",
              "      <th>9</th>\n",
              "      <td>Revolutionary Armed Forces of Colombia (FARC)</td>\n",
              "      <td>5661.0</td>\n",
              "      <td>2487</td>\n",
              "      <td>2.276236</td>\n",
              "    </tr>\n",
              "    <tr>\n",
              "      <th>10</th>\n",
              "      <td>Kurdistan Workers' Party (PKK)</td>\n",
              "      <td>4955.0</td>\n",
              "      <td>2310</td>\n",
              "      <td>2.145022</td>\n",
              "    </tr>\n",
              "    <tr>\n",
              "      <th>11</th>\n",
              "      <td>New People's Army (NPA)</td>\n",
              "      <td>4386.0</td>\n",
              "      <td>2772</td>\n",
              "      <td>1.582251</td>\n",
              "    </tr>\n",
              "  </tbody>\n",
              "</table>\n",
              "</div>"
            ],
            "text/plain": [
              "                                               group  ...  casualty_ratio\n",
              "3                                         Boko Haram  ...        8.406948\n",
              "1        Islamic State of Iraq and the Levant (ISIL)  ...        6.934438\n",
              "5            Liberation Tigers of Tamil Eelam (LTTE)  ...        6.842466\n",
              "8                    Tehrik-i-Taliban Pakistan (TTP)  ...        4.472243\n",
              "2                                            Taliban  ...        3.932870\n",
              "12          Al-Qaida in the Arabian Peninsula (AQAP)  ...        3.495098\n",
              "13                   Houthi extremists (Ansar Allah)  ...        2.871940\n",
              "6                                         Al-Shabaab  ...        2.837591\n",
              "4                                  Shining Path (SL)  ...        2.546872\n",
              "7   Farabundo Marti National Liberation Front (FMLN)  ...        2.406744\n",
              "9      Revolutionary Armed Forces of Colombia (FARC)  ...        2.276236\n",
              "10                    Kurdistan Workers' Party (PKK)  ...        2.145022\n",
              "11                           New People's Army (NPA)  ...        1.582251\n",
              "\n",
              "[13 rows x 4 columns]"
            ]
          },
          "metadata": {},
          "execution_count": 30
        }
      ]
    },
    {
      "cell_type": "code",
      "metadata": {
        "colab": {
          "base_uri": "https://localhost:8080/",
          "height": 498
        },
        "id": "UKN-mExfSBxn",
        "outputId": "aea9dd06-59c4-4641-d8fc-6566ffc58df8"
      },
      "source": [
        "fig = plt.figure(figsize = (12,8))\n",
        "\n",
        "sns.scatterplot(data = worst_terror_groups, x = 'attack_count', y = 'casualties', s = 400, color = 'red')\n",
        "for line in range(1,worst_terror_groups.shape[0]):\n",
        "  plt.text(worst_terror_groups['attack_count'][line]+0.2, worst_terror_groups['casualties'][line], worst_terror_groups['group'][line], horizontalalignment='left', size='medium', color='black', weight='semibold')\n",
        "plt.show()"
      ],
      "execution_count": 31,
      "outputs": [
        {
          "output_type": "display_data",
          "data": {
            "image/png": "[encoded data removed]",
            "text/plain": [
              "<Figure size 864x576 with 1 Axes>"
            ]
          },
          "metadata": {
            "needs_background": "light"
          }
        }
      ]
    },
    {
      "cell_type": "markdown",
      "metadata": {
        "id": "pPPt-0EDSG0S"
      },
      "source": [
        "As seen from the scatter plot, ISIL and Taliban are the groups responsible for most casualties and attacks. Shining Path, Boko Haram, Al-Shabaab are other groups that undertake most of the attacks. Also, it should be noted that while many terrorist groups have slowed down over the time, Taliban and ISIL remain threats even till this day."
      ]
    },
    {
      "cell_type": "markdown",
      "metadata": {
        "id": "XFNf2KtwSJsK"
      },
      "source": [
        "## **5. Now that we have dealt with geography, time, type of attacks, and forces responsible behind them. It is time to shade some light on victims. Who are the primary victims of these terror groups, and what group is more prone to losing their lives as compared to the others?**"
      ]
    },
    {
      "cell_type": "code",
      "metadata": {
        "colab": {
          "base_uri": "https://localhost:8080/",
          "height": 739
        },
        "id": "xURavTjPSEUQ",
        "outputId": "414164a5-2f8c-44bf-92cb-345cd57e72fd"
      },
      "source": [
        "#Grouping by Victims\n",
        "\n",
        "victim_by_attacks = terror_df['targtype1_txt'].value_counts().reset_index()\n",
        "victim_by_attacks.columns = ['victims', 'number_of_attacks']\n",
        "victim_by_attacks"
      ],
      "execution_count": 32,
      "outputs": [
        {
          "output_type": "execute_result",
          "data": {
            "text/html": [
              "<div>\n",
              "<style scoped>\n",
              "    .dataframe tbody tr th:only-of-type {\n",
              "        vertical-align: middle;\n",
              "    }\n",
              "\n",
              "    .dataframe tbody tr th {\n",
              "        vertical-align: top;\n",
              "    }\n",
              "\n",
              "    .dataframe thead th {\n",
              "        text-align: right;\n",
              "    }\n",
              "</style>\n",
              "<table border=\"1\" class=\"dataframe\">\n",
              "  <thead>\n",
              "    <tr style=\"text-align: right;\">\n",
              "      <th></th>\n",
              "      <th>victims</th>\n",
              "      <th>number_of_attacks</th>\n",
              "    </tr>\n",
              "  </thead>\n",
              "  <tbody>\n",
              "    <tr>\n",
              "      <th>0</th>\n",
              "      <td>Private Citizens &amp; Property</td>\n",
              "      <td>43511</td>\n",
              "    </tr>\n",
              "    <tr>\n",
              "      <th>1</th>\n",
              "      <td>Military</td>\n",
              "      <td>27984</td>\n",
              "    </tr>\n",
              "    <tr>\n",
              "      <th>2</th>\n",
              "      <td>Police</td>\n",
              "      <td>24506</td>\n",
              "    </tr>\n",
              "    <tr>\n",
              "      <th>3</th>\n",
              "      <td>Government (General)</td>\n",
              "      <td>21283</td>\n",
              "    </tr>\n",
              "    <tr>\n",
              "      <th>4</th>\n",
              "      <td>Business</td>\n",
              "      <td>20669</td>\n",
              "    </tr>\n",
              "    <tr>\n",
              "      <th>5</th>\n",
              "      <td>Transportation</td>\n",
              "      <td>6799</td>\n",
              "    </tr>\n",
              "    <tr>\n",
              "      <th>6</th>\n",
              "      <td>Utilities</td>\n",
              "      <td>6023</td>\n",
              "    </tr>\n",
              "    <tr>\n",
              "      <th>7</th>\n",
              "      <td>Unknown</td>\n",
              "      <td>5898</td>\n",
              "    </tr>\n",
              "    <tr>\n",
              "      <th>8</th>\n",
              "      <td>Religious Figures/Institutions</td>\n",
              "      <td>4440</td>\n",
              "    </tr>\n",
              "    <tr>\n",
              "      <th>9</th>\n",
              "      <td>Educational Institution</td>\n",
              "      <td>4322</td>\n",
              "    </tr>\n",
              "    <tr>\n",
              "      <th>10</th>\n",
              "      <td>Government (Diplomatic)</td>\n",
              "      <td>3573</td>\n",
              "    </tr>\n",
              "    <tr>\n",
              "      <th>11</th>\n",
              "      <td>Terrorists/Non-State Militia</td>\n",
              "      <td>3039</td>\n",
              "    </tr>\n",
              "    <tr>\n",
              "      <th>12</th>\n",
              "      <td>Journalists &amp; Media</td>\n",
              "      <td>2948</td>\n",
              "    </tr>\n",
              "    <tr>\n",
              "      <th>13</th>\n",
              "      <td>Violent Political Party</td>\n",
              "      <td>1866</td>\n",
              "    </tr>\n",
              "    <tr>\n",
              "      <th>14</th>\n",
              "      <td>Airports &amp; Aircraft</td>\n",
              "      <td>1343</td>\n",
              "    </tr>\n",
              "    <tr>\n",
              "      <th>15</th>\n",
              "      <td>Telecommunication</td>\n",
              "      <td>1009</td>\n",
              "    </tr>\n",
              "    <tr>\n",
              "      <th>16</th>\n",
              "      <td>NGO</td>\n",
              "      <td>970</td>\n",
              "    </tr>\n",
              "    <tr>\n",
              "      <th>17</th>\n",
              "      <td>Tourists</td>\n",
              "      <td>440</td>\n",
              "    </tr>\n",
              "    <tr>\n",
              "      <th>18</th>\n",
              "      <td>Maritime</td>\n",
              "      <td>351</td>\n",
              "    </tr>\n",
              "    <tr>\n",
              "      <th>19</th>\n",
              "      <td>Food or Water Supply</td>\n",
              "      <td>317</td>\n",
              "    </tr>\n",
              "    <tr>\n",
              "      <th>20</th>\n",
              "      <td>Abortion Related</td>\n",
              "      <td>263</td>\n",
              "    </tr>\n",
              "    <tr>\n",
              "      <th>21</th>\n",
              "      <td>Other</td>\n",
              "      <td>137</td>\n",
              "    </tr>\n",
              "  </tbody>\n",
              "</table>\n",
              "</div>"
            ],
            "text/plain": [
              "                           victims  number_of_attacks\n",
              "0      Private Citizens & Property              43511\n",
              "1                         Military              27984\n",
              "2                           Police              24506\n",
              "3             Government (General)              21283\n",
              "4                         Business              20669\n",
              "5                   Transportation               6799\n",
              "6                        Utilities               6023\n",
              "7                          Unknown               5898\n",
              "8   Religious Figures/Institutions               4440\n",
              "9          Educational Institution               4322\n",
              "10         Government (Diplomatic)               3573\n",
              "11    Terrorists/Non-State Militia               3039\n",
              "12             Journalists & Media               2948\n",
              "13         Violent Political Party               1866\n",
              "14             Airports & Aircraft               1343\n",
              "15               Telecommunication               1009\n",
              "16                             NGO                970\n",
              "17                        Tourists                440\n",
              "18                        Maritime                351\n",
              "19            Food or Water Supply                317\n",
              "20                Abortion Related                263\n",
              "21                           Other                137"
            ]
          },
          "metadata": {},
          "execution_count": 32
        }
      ]
    },
    {
      "cell_type": "code",
      "metadata": {
        "colab": {
          "base_uri": "https://localhost:8080/",
          "height": 739
        },
        "id": "mom04ge8SMUg",
        "outputId": "67161ff6-2f41-4a30-936e-73bb66bf3359"
      },
      "source": [
        "victims_df = terror_df.groupby('targtype1_txt')['nkill'].sum().reset_index()\n",
        "victims_df.columns = ['victims', 'casualties']\n",
        "victims_df = victims_df.sort_values(by = 'casualties', ascending = False)\n",
        "victims_df"
      ],
      "execution_count": 33,
      "outputs": [
        {
          "output_type": "execute_result",
          "data": {
            "text/html": [
              "<div>\n",
              "<style scoped>\n",
              "    .dataframe tbody tr th:only-of-type {\n",
              "        vertical-align: middle;\n",
              "    }\n",
              "\n",
              "    .dataframe tbody tr th {\n",
              "        vertical-align: top;\n",
              "    }\n",
              "\n",
              "    .dataframe thead th {\n",
              "        text-align: right;\n",
              "    }\n",
              "</style>\n",
              "<table border=\"1\" class=\"dataframe\">\n",
              "  <thead>\n",
              "    <tr style=\"text-align: right;\">\n",
              "      <th></th>\n",
              "      <th>victims</th>\n",
              "      <th>casualties</th>\n",
              "    </tr>\n",
              "  </thead>\n",
              "  <tbody>\n",
              "    <tr>\n",
              "      <th>13</th>\n",
              "      <td>Private Citizens &amp; Property</td>\n",
              "      <td>140504.0</td>\n",
              "    </tr>\n",
              "    <tr>\n",
              "      <th>9</th>\n",
              "      <td>Military</td>\n",
              "      <td>106047.0</td>\n",
              "    </tr>\n",
              "    <tr>\n",
              "      <th>12</th>\n",
              "      <td>Police</td>\n",
              "      <td>53704.0</td>\n",
              "    </tr>\n",
              "    <tr>\n",
              "      <th>6</th>\n",
              "      <td>Government (General)</td>\n",
              "      <td>26071.0</td>\n",
              "    </tr>\n",
              "    <tr>\n",
              "      <th>2</th>\n",
              "      <td>Business</td>\n",
              "      <td>23487.0</td>\n",
              "    </tr>\n",
              "    <tr>\n",
              "      <th>18</th>\n",
              "      <td>Transportation</td>\n",
              "      <td>13916.0</td>\n",
              "    </tr>\n",
              "    <tr>\n",
              "      <th>14</th>\n",
              "      <td>Religious Figures/Institutions</td>\n",
              "      <td>13413.0</td>\n",
              "    </tr>\n",
              "    <tr>\n",
              "      <th>16</th>\n",
              "      <td>Terrorists/Non-State Militia</td>\n",
              "      <td>9088.0</td>\n",
              "    </tr>\n",
              "    <tr>\n",
              "      <th>19</th>\n",
              "      <td>Unknown</td>\n",
              "      <td>4329.0</td>\n",
              "    </tr>\n",
              "    <tr>\n",
              "      <th>1</th>\n",
              "      <td>Airports &amp; Aircraft</td>\n",
              "      <td>3767.0</td>\n",
              "    </tr>\n",
              "    <tr>\n",
              "      <th>3</th>\n",
              "      <td>Educational Institution</td>\n",
              "      <td>3745.0</td>\n",
              "    </tr>\n",
              "    <tr>\n",
              "      <th>21</th>\n",
              "      <td>Violent Political Party</td>\n",
              "      <td>3617.0</td>\n",
              "    </tr>\n",
              "    <tr>\n",
              "      <th>5</th>\n",
              "      <td>Government (Diplomatic)</td>\n",
              "      <td>3039.0</td>\n",
              "    </tr>\n",
              "    <tr>\n",
              "      <th>20</th>\n",
              "      <td>Utilities</td>\n",
              "      <td>1874.0</td>\n",
              "    </tr>\n",
              "    <tr>\n",
              "      <th>7</th>\n",
              "      <td>Journalists &amp; Media</td>\n",
              "      <td>1501.0</td>\n",
              "    </tr>\n",
              "    <tr>\n",
              "      <th>8</th>\n",
              "      <td>Maritime</td>\n",
              "      <td>1191.0</td>\n",
              "    </tr>\n",
              "    <tr>\n",
              "      <th>10</th>\n",
              "      <td>NGO</td>\n",
              "      <td>1057.0</td>\n",
              "    </tr>\n",
              "    <tr>\n",
              "      <th>17</th>\n",
              "      <td>Tourists</td>\n",
              "      <td>758.0</td>\n",
              "    </tr>\n",
              "    <tr>\n",
              "      <th>4</th>\n",
              "      <td>Food or Water Supply</td>\n",
              "      <td>313.0</td>\n",
              "    </tr>\n",
              "    <tr>\n",
              "      <th>11</th>\n",
              "      <td>Other</td>\n",
              "      <td>255.0</td>\n",
              "    </tr>\n",
              "    <tr>\n",
              "      <th>15</th>\n",
              "      <td>Telecommunication</td>\n",
              "      <td>182.0</td>\n",
              "    </tr>\n",
              "    <tr>\n",
              "      <th>0</th>\n",
              "      <td>Abortion Related</td>\n",
              "      <td>10.0</td>\n",
              "    </tr>\n",
              "  </tbody>\n",
              "</table>\n",
              "</div>"
            ],
            "text/plain": [
              "                           victims  casualties\n",
              "13     Private Citizens & Property    140504.0\n",
              "9                         Military    106047.0\n",
              "12                          Police     53704.0\n",
              "6             Government (General)     26071.0\n",
              "2                         Business     23487.0\n",
              "18                  Transportation     13916.0\n",
              "14  Religious Figures/Institutions     13413.0\n",
              "16    Terrorists/Non-State Militia      9088.0\n",
              "19                         Unknown      4329.0\n",
              "1              Airports & Aircraft      3767.0\n",
              "3          Educational Institution      3745.0\n",
              "21         Violent Political Party      3617.0\n",
              "5          Government (Diplomatic)      3039.0\n",
              "20                       Utilities      1874.0\n",
              "7              Journalists & Media      1501.0\n",
              "8                         Maritime      1191.0\n",
              "10                             NGO      1057.0\n",
              "17                        Tourists       758.0\n",
              "4             Food or Water Supply       313.0\n",
              "11                           Other       255.0\n",
              "15               Telecommunication       182.0\n",
              "0                 Abortion Related        10.0"
            ]
          },
          "metadata": {},
          "execution_count": 33
        }
      ]
    },
    {
      "cell_type": "code",
      "metadata": {
        "colab": {
          "base_uri": "https://localhost:8080/",
          "height": 739
        },
        "id": "FPjHWRa7SOGn",
        "outputId": "207044b0-fcd5-4207-f5d7-35180e719193"
      },
      "source": [
        "worst_affected_victims = pd.merge(victims_df,victim_by_attacks, on = 'victims')\n",
        "worst_affected_victims['casualty_ratio'] = worst_affected_victims['casualties']/worst_affected_victims['number_of_attacks']\n",
        "worst_affected_victims = worst_affected_victims.sort_values(by = 'casualty_ratio', ascending = False)\n",
        "worst_affected_victims"
      ],
      "execution_count": 34,
      "outputs": [
        {
          "output_type": "execute_result",
          "data": {
            "text/html": [
              "<div>\n",
              "<style scoped>\n",
              "    .dataframe tbody tr th:only-of-type {\n",
              "        vertical-align: middle;\n",
              "    }\n",
              "\n",
              "    .dataframe tbody tr th {\n",
              "        vertical-align: top;\n",
              "    }\n",
              "\n",
              "    .dataframe thead th {\n",
              "        text-align: right;\n",
              "    }\n",
              "</style>\n",
              "<table border=\"1\" class=\"dataframe\">\n",
              "  <thead>\n",
              "    <tr style=\"text-align: right;\">\n",
              "      <th></th>\n",
              "      <th>victims</th>\n",
              "      <th>casualties</th>\n",
              "      <th>number_of_attacks</th>\n",
              "      <th>casualty_ratio</th>\n",
              "    </tr>\n",
              "  </thead>\n",
              "  <tbody>\n",
              "    <tr>\n",
              "      <th>1</th>\n",
              "      <td>Military</td>\n",
              "      <td>106047.0</td>\n",
              "      <td>27984</td>\n",
              "      <td>3.789558</td>\n",
              "    </tr>\n",
              "    <tr>\n",
              "      <th>15</th>\n",
              "      <td>Maritime</td>\n",
              "      <td>1191.0</td>\n",
              "      <td>351</td>\n",
              "      <td>3.393162</td>\n",
              "    </tr>\n",
              "    <tr>\n",
              "      <th>0</th>\n",
              "      <td>Private Citizens &amp; Property</td>\n",
              "      <td>140504.0</td>\n",
              "      <td>43511</td>\n",
              "      <td>3.229160</td>\n",
              "    </tr>\n",
              "    <tr>\n",
              "      <th>6</th>\n",
              "      <td>Religious Figures/Institutions</td>\n",
              "      <td>13413.0</td>\n",
              "      <td>4440</td>\n",
              "      <td>3.020946</td>\n",
              "    </tr>\n",
              "    <tr>\n",
              "      <th>7</th>\n",
              "      <td>Terrorists/Non-State Militia</td>\n",
              "      <td>9088.0</td>\n",
              "      <td>3039</td>\n",
              "      <td>2.990457</td>\n",
              "    </tr>\n",
              "    <tr>\n",
              "      <th>9</th>\n",
              "      <td>Airports &amp; Aircraft</td>\n",
              "      <td>3767.0</td>\n",
              "      <td>1343</td>\n",
              "      <td>2.804914</td>\n",
              "    </tr>\n",
              "    <tr>\n",
              "      <th>2</th>\n",
              "      <td>Police</td>\n",
              "      <td>53704.0</td>\n",
              "      <td>24506</td>\n",
              "      <td>2.191463</td>\n",
              "    </tr>\n",
              "    <tr>\n",
              "      <th>5</th>\n",
              "      <td>Transportation</td>\n",
              "      <td>13916.0</td>\n",
              "      <td>6799</td>\n",
              "      <td>2.046772</td>\n",
              "    </tr>\n",
              "    <tr>\n",
              "      <th>11</th>\n",
              "      <td>Violent Political Party</td>\n",
              "      <td>3617.0</td>\n",
              "      <td>1866</td>\n",
              "      <td>1.938371</td>\n",
              "    </tr>\n",
              "    <tr>\n",
              "      <th>19</th>\n",
              "      <td>Other</td>\n",
              "      <td>255.0</td>\n",
              "      <td>137</td>\n",
              "      <td>1.861314</td>\n",
              "    </tr>\n",
              "    <tr>\n",
              "      <th>17</th>\n",
              "      <td>Tourists</td>\n",
              "      <td>758.0</td>\n",
              "      <td>440</td>\n",
              "      <td>1.722727</td>\n",
              "    </tr>\n",
              "    <tr>\n",
              "      <th>3</th>\n",
              "      <td>Government (General)</td>\n",
              "      <td>26071.0</td>\n",
              "      <td>21283</td>\n",
              "      <td>1.224968</td>\n",
              "    </tr>\n",
              "    <tr>\n",
              "      <th>4</th>\n",
              "      <td>Business</td>\n",
              "      <td>23487.0</td>\n",
              "      <td>20669</td>\n",
              "      <td>1.136339</td>\n",
              "    </tr>\n",
              "    <tr>\n",
              "      <th>16</th>\n",
              "      <td>NGO</td>\n",
              "      <td>1057.0</td>\n",
              "      <td>970</td>\n",
              "      <td>1.089691</td>\n",
              "    </tr>\n",
              "    <tr>\n",
              "      <th>18</th>\n",
              "      <td>Food or Water Supply</td>\n",
              "      <td>313.0</td>\n",
              "      <td>317</td>\n",
              "      <td>0.987382</td>\n",
              "    </tr>\n",
              "    <tr>\n",
              "      <th>10</th>\n",
              "      <td>Educational Institution</td>\n",
              "      <td>3745.0</td>\n",
              "      <td>4322</td>\n",
              "      <td>0.866497</td>\n",
              "    </tr>\n",
              "    <tr>\n",
              "      <th>12</th>\n",
              "      <td>Government (Diplomatic)</td>\n",
              "      <td>3039.0</td>\n",
              "      <td>3573</td>\n",
              "      <td>0.850546</td>\n",
              "    </tr>\n",
              "    <tr>\n",
              "      <th>8</th>\n",
              "      <td>Unknown</td>\n",
              "      <td>4329.0</td>\n",
              "      <td>5898</td>\n",
              "      <td>0.733978</td>\n",
              "    </tr>\n",
              "    <tr>\n",
              "      <th>14</th>\n",
              "      <td>Journalists &amp; Media</td>\n",
              "      <td>1501.0</td>\n",
              "      <td>2948</td>\n",
              "      <td>0.509159</td>\n",
              "    </tr>\n",
              "    <tr>\n",
              "      <th>13</th>\n",
              "      <td>Utilities</td>\n",
              "      <td>1874.0</td>\n",
              "      <td>6023</td>\n",
              "      <td>0.311141</td>\n",
              "    </tr>\n",
              "    <tr>\n",
              "      <th>20</th>\n",
              "      <td>Telecommunication</td>\n",
              "      <td>182.0</td>\n",
              "      <td>1009</td>\n",
              "      <td>0.180377</td>\n",
              "    </tr>\n",
              "    <tr>\n",
              "      <th>21</th>\n",
              "      <td>Abortion Related</td>\n",
              "      <td>10.0</td>\n",
              "      <td>263</td>\n",
              "      <td>0.038023</td>\n",
              "    </tr>\n",
              "  </tbody>\n",
              "</table>\n",
              "</div>"
            ],
            "text/plain": [
              "                           victims  ...  casualty_ratio\n",
              "1                         Military  ...        3.789558\n",
              "15                        Maritime  ...        3.393162\n",
              "0      Private Citizens & Property  ...        3.229160\n",
              "6   Religious Figures/Institutions  ...        3.020946\n",
              "7     Terrorists/Non-State Militia  ...        2.990457\n",
              "9              Airports & Aircraft  ...        2.804914\n",
              "2                           Police  ...        2.191463\n",
              "5                   Transportation  ...        2.046772\n",
              "11         Violent Political Party  ...        1.938371\n",
              "19                           Other  ...        1.861314\n",
              "17                        Tourists  ...        1.722727\n",
              "3             Government (General)  ...        1.224968\n",
              "4                         Business  ...        1.136339\n",
              "16                             NGO  ...        1.089691\n",
              "18            Food or Water Supply  ...        0.987382\n",
              "10         Educational Institution  ...        0.866497\n",
              "12         Government (Diplomatic)  ...        0.850546\n",
              "8                          Unknown  ...        0.733978\n",
              "14             Journalists & Media  ...        0.509159\n",
              "13                       Utilities  ...        0.311141\n",
              "20               Telecommunication  ...        0.180377\n",
              "21                Abortion Related  ...        0.038023\n",
              "\n",
              "[22 rows x 4 columns]"
            ]
          },
          "metadata": {},
          "execution_count": 34
        }
      ]
    },
    {
      "cell_type": "code",
      "metadata": {
        "colab": {
          "base_uri": "https://localhost:8080/",
          "height": 498
        },
        "id": "FuZxsKoPSQMq",
        "outputId": "d137b795-e272-483e-d6f4-8c3632d4092f"
      },
      "source": [
        "fig = plt.figure(figsize = (12,8))\n",
        "\n",
        "sns.scatterplot(data = worst_affected_victims, x = 'number_of_attacks', y = 'casualties', s = 300, color = 'red')\n",
        "for line in range(0,worst_affected_victims.shape[0]):\n",
        "  plt.text(worst_affected_victims['number_of_attacks'][line]+0.2, worst_affected_victims['casualties'][line], worst_affected_victims['victims'][line], horizontalalignment='right', size='medium', color='black', weight='semibold')\n",
        "plt.show()"
      ],
      "execution_count": 35,
      "outputs": [
        {
          "output_type": "display_data",
          "data": {
            "image/png": "[encoded data removed]",
            "text/plain": [
              "<Figure size 864x576 with 1 Axes>"
            ]
          },
          "metadata": {
            "needs_background": "light"
          }
        }
      ]
    },
    {
      "cell_type": "markdown",
      "metadata": {
        "id": "5hlJVdU4SUF9"
      },
      "source": [
        "To sum the victim analysis - Private Properties and Citizens remain at the largest risk of suffering loss due to terror attacks, followed by Military and Police forces."
      ]
    },
    {
      "cell_type": "markdown",
      "metadata": {
        "id": "iLOqdLqQSYWu"
      },
      "source": [
        "## **Conclusion**\n",
        "\n",
        "The overall conclusions from the Global Terrorism dataset present some hope as well as some negatives. While the crime rate has been falling in late years, some countries in South Asia are yet to show a significant improvement. Some significant takeaways from Exploratory Data Analysis of this Global Terrorism Data:\n",
        "\n",
        "1. Middle East and North Africa may feel like most affected regions due to outlier in form of Iraq, but South Asian region has more countries affected by terrorism, including the likes of Pakistan, Afghanistan, and India.\n",
        "\n",
        "2. Terrorism reached its peak in 2014, and has seen quite some decline since then. However, across all the years, the worrying trend that remains common is - attacks in December. The last month of the year, for some reason is the worst time world has to face when it comes to terrorism. Therefore, governments all over the world to ensure extra safety during this time period.\n",
        "\n",
        "3. While Taliban are responsible for most attacks around the globe, ISIL have most blood on their hands. Another terror group that has wreaked havoc is Boko Haram, a group with major influence in Nigeria. All these three groups are not only responsible for plethora of attacks and over the top casualties, but they are also found to be worst killers as they average most casualties with each attack.\n",
        "\n",
        "4. Another mind-blogging observation from dataset was how most casualties happen. While Bombing/Explosion remains the most common form of terror attack (nearly half the terror attacks are Bombing/Explosion), shockingly, it is the Armed Assault that is responsible for most casualties. So, a less popular form of attack causes more casualties and that is something authorities need to keep an eye on if they want to bring down unwanted numbers.\n",
        "\n",
        "5. As they say, the worst consequences of wars are suffered by none other than laymen of the land. Of all the terror attacks recorded over the years, Private Properties and Citizens were by far the biggest victims followed by Military Personnel. \n",
        "\n",
        "To sum it up, analysis of Terrorism across the globe brought many different factors upon analyzing, and we can only hope that these insights may help authorities understand the situations better and implement measures accordingly."
      ]
    }
  ]
}